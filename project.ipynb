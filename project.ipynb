{
 "cells": [
  {
   "cell_type": "code",
   "execution_count": 285,
   "metadata": {},
   "outputs": [],
   "source": [
    "import pandas as pd\n",
    "import numpy as np\n",
    "import math\n",
    "import seaborn as sns \n",
    "import re\n",
    "import ast"
   ]
  },
  {
   "attachments": {},
   "cell_type": "markdown",
   "metadata": {},
   "source": [
    "Задача проекта: разработать сервис для предсказания стоимости домов на основе истории предложений.\n",
    "Так как нам необходимо предсказать числовое значение, то нам необходимо решить задачу регрессии."
   ]
  },
  {
   "attachments": {},
   "cell_type": "markdown",
   "metadata": {},
   "source": [
    "Для начала изучим исходные данные."
   ]
  },
  {
   "cell_type": "code",
   "execution_count": 286,
   "metadata": {},
   "outputs": [
    {
     "data": {
      "text/html": [
       "<div>\n",
       "<style scoped>\n",
       "    .dataframe tbody tr th:only-of-type {\n",
       "        vertical-align: middle;\n",
       "    }\n",
       "\n",
       "    .dataframe tbody tr th {\n",
       "        vertical-align: top;\n",
       "    }\n",
       "\n",
       "    .dataframe thead th {\n",
       "        text-align: right;\n",
       "    }\n",
       "</style>\n",
       "<table border=\"1\" class=\"dataframe\">\n",
       "  <thead>\n",
       "    <tr style=\"text-align: right;\">\n",
       "      <th></th>\n",
       "      <th>status</th>\n",
       "      <th>private pool</th>\n",
       "      <th>propertyType</th>\n",
       "      <th>street</th>\n",
       "      <th>baths</th>\n",
       "      <th>homeFacts</th>\n",
       "      <th>fireplace</th>\n",
       "      <th>city</th>\n",
       "      <th>schools</th>\n",
       "      <th>sqft</th>\n",
       "      <th>zipcode</th>\n",
       "      <th>beds</th>\n",
       "      <th>state</th>\n",
       "      <th>stories</th>\n",
       "      <th>mls-id</th>\n",
       "      <th>PrivatePool</th>\n",
       "      <th>MlsId</th>\n",
       "      <th>target</th>\n",
       "    </tr>\n",
       "  </thead>\n",
       "  <tbody>\n",
       "    <tr>\n",
       "      <th>0</th>\n",
       "      <td>Active</td>\n",
       "      <td>NaN</td>\n",
       "      <td>Single Family Home</td>\n",
       "      <td>240 Heather Ln</td>\n",
       "      <td>3.5</td>\n",
       "      <td>{'atAGlanceFacts': [{'factValue': '2019', 'fac...</td>\n",
       "      <td>Gas Logs</td>\n",
       "      <td>Southern Pines</td>\n",
       "      <td>[{'rating': ['4', '4', '7', 'NR', '4', '7', 'N...</td>\n",
       "      <td>2900</td>\n",
       "      <td>28387</td>\n",
       "      <td>4</td>\n",
       "      <td>NC</td>\n",
       "      <td>NaN</td>\n",
       "      <td>NaN</td>\n",
       "      <td>NaN</td>\n",
       "      <td>611019</td>\n",
       "      <td>$418,000</td>\n",
       "    </tr>\n",
       "    <tr>\n",
       "      <th>1</th>\n",
       "      <td>for sale</td>\n",
       "      <td>NaN</td>\n",
       "      <td>single-family home</td>\n",
       "      <td>12911 E Heroy Ave</td>\n",
       "      <td>3 Baths</td>\n",
       "      <td>{'atAGlanceFacts': [{'factValue': '2019', 'fac...</td>\n",
       "      <td>NaN</td>\n",
       "      <td>Spokane Valley</td>\n",
       "      <td>[{'rating': ['4/10', 'None/10', '4/10'], 'data...</td>\n",
       "      <td>1,947 sqft</td>\n",
       "      <td>99216</td>\n",
       "      <td>3 Beds</td>\n",
       "      <td>WA</td>\n",
       "      <td>2.0</td>\n",
       "      <td>NaN</td>\n",
       "      <td>NaN</td>\n",
       "      <td>201916904</td>\n",
       "      <td>$310,000</td>\n",
       "    </tr>\n",
       "    <tr>\n",
       "      <th>2</th>\n",
       "      <td>for sale</td>\n",
       "      <td>NaN</td>\n",
       "      <td>single-family home</td>\n",
       "      <td>2005 Westridge Rd</td>\n",
       "      <td>2 Baths</td>\n",
       "      <td>{'atAGlanceFacts': [{'factValue': '1961', 'fac...</td>\n",
       "      <td>yes</td>\n",
       "      <td>Los Angeles</td>\n",
       "      <td>[{'rating': ['8/10', '4/10', '8/10'], 'data': ...</td>\n",
       "      <td>3,000 sqft</td>\n",
       "      <td>90049</td>\n",
       "      <td>3 Beds</td>\n",
       "      <td>CA</td>\n",
       "      <td>1.0</td>\n",
       "      <td>NaN</td>\n",
       "      <td>yes</td>\n",
       "      <td>FR19221027</td>\n",
       "      <td>$2,895,000</td>\n",
       "    </tr>\n",
       "    <tr>\n",
       "      <th>3</th>\n",
       "      <td>for sale</td>\n",
       "      <td>NaN</td>\n",
       "      <td>single-family home</td>\n",
       "      <td>4311 Livingston Ave</td>\n",
       "      <td>8 Baths</td>\n",
       "      <td>{'atAGlanceFacts': [{'factValue': '2006', 'fac...</td>\n",
       "      <td>yes</td>\n",
       "      <td>Dallas</td>\n",
       "      <td>[{'rating': ['9/10', '9/10', '10/10', '9/10'],...</td>\n",
       "      <td>6,457 sqft</td>\n",
       "      <td>75205</td>\n",
       "      <td>5 Beds</td>\n",
       "      <td>TX</td>\n",
       "      <td>3.0</td>\n",
       "      <td>NaN</td>\n",
       "      <td>NaN</td>\n",
       "      <td>14191809</td>\n",
       "      <td>$2,395,000</td>\n",
       "    </tr>\n",
       "    <tr>\n",
       "      <th>4</th>\n",
       "      <td>for sale</td>\n",
       "      <td>NaN</td>\n",
       "      <td>lot/land</td>\n",
       "      <td>1524 Kiscoe St</td>\n",
       "      <td>NaN</td>\n",
       "      <td>{'atAGlanceFacts': [{'factValue': '', 'factLab...</td>\n",
       "      <td>NaN</td>\n",
       "      <td>Palm Bay</td>\n",
       "      <td>[{'rating': ['4/10', '5/10', '5/10'], 'data': ...</td>\n",
       "      <td>NaN</td>\n",
       "      <td>32908</td>\n",
       "      <td>NaN</td>\n",
       "      <td>FL</td>\n",
       "      <td>NaN</td>\n",
       "      <td>NaN</td>\n",
       "      <td>NaN</td>\n",
       "      <td>861745</td>\n",
       "      <td>$5,000</td>\n",
       "    </tr>\n",
       "  </tbody>\n",
       "</table>\n",
       "</div>"
      ],
      "text/plain": [
       "     status private pool        propertyType               street    baths  \\\n",
       "0    Active          NaN  Single Family Home       240 Heather Ln      3.5   \n",
       "1  for sale          NaN  single-family home    12911 E Heroy Ave  3 Baths   \n",
       "2  for sale          NaN  single-family home    2005 Westridge Rd  2 Baths   \n",
       "3  for sale          NaN  single-family home  4311 Livingston Ave  8 Baths   \n",
       "4  for sale          NaN            lot/land       1524 Kiscoe St      NaN   \n",
       "\n",
       "                                           homeFacts fireplace  \\\n",
       "0  {'atAGlanceFacts': [{'factValue': '2019', 'fac...  Gas Logs   \n",
       "1  {'atAGlanceFacts': [{'factValue': '2019', 'fac...       NaN   \n",
       "2  {'atAGlanceFacts': [{'factValue': '1961', 'fac...       yes   \n",
       "3  {'atAGlanceFacts': [{'factValue': '2006', 'fac...       yes   \n",
       "4  {'atAGlanceFacts': [{'factValue': '', 'factLab...       NaN   \n",
       "\n",
       "             city                                            schools  \\\n",
       "0  Southern Pines  [{'rating': ['4', '4', '7', 'NR', '4', '7', 'N...   \n",
       "1  Spokane Valley  [{'rating': ['4/10', 'None/10', '4/10'], 'data...   \n",
       "2     Los Angeles  [{'rating': ['8/10', '4/10', '8/10'], 'data': ...   \n",
       "3          Dallas  [{'rating': ['9/10', '9/10', '10/10', '9/10'],...   \n",
       "4        Palm Bay  [{'rating': ['4/10', '5/10', '5/10'], 'data': ...   \n",
       "\n",
       "         sqft zipcode    beds state stories mls-id PrivatePool       MlsId  \\\n",
       "0        2900   28387       4    NC     NaN    NaN         NaN      611019   \n",
       "1  1,947 sqft   99216  3 Beds    WA     2.0    NaN         NaN   201916904   \n",
       "2  3,000 sqft   90049  3 Beds    CA     1.0    NaN         yes  FR19221027   \n",
       "3  6,457 sqft   75205  5 Beds    TX     3.0    NaN         NaN    14191809   \n",
       "4         NaN   32908     NaN    FL     NaN    NaN         NaN      861745   \n",
       "\n",
       "       target  \n",
       "0    $418,000  \n",
       "1    $310,000  \n",
       "2  $2,895,000  \n",
       "3  $2,395,000  \n",
       "4      $5,000  "
      ]
     },
     "execution_count": 286,
     "metadata": {},
     "output_type": "execute_result"
    }
   ],
   "source": [
    "df = pd.read_csv('data/data.csv')\n",
    "df.head()"
   ]
  },
  {
   "attachments": {},
   "cell_type": "markdown",
   "metadata": {},
   "source": [
    "В полученном датасете имеем следующие поля: \\\n",
    "\n",
    "status - текущий статус собственности \\\n",
    "private pool - наличие собственного бассейна \\\n",
    "property type - тип собственности \\\n",
    "street - улица и номер дома \\\n",
    "baths - количество ванных комнат \\\n",
    "homeFacts - дополнительная информация о собственности \\\n",
    "fireplace - информация о камине \\\n",
    "city - название города \\\n",
    "schools - информация о близлежащих школах \\\n",
    "sqft - площадь собственности \\\n",
    "zipcode - почтовый индекс \\\n",
    "beds - количество спальных мест \\\n",
    "state - штат \\\n",
    "stories - количество этажей \\\n",
    "mls-id - идентификационный номер члена MLS \\\n",
    "PrivatePool - наличие собственного бассейна \\\n",
    "MlsId - идентификационный номер члена MLS \\\n",
    "target - стоимость собственности"
   ]
  },
  {
   "cell_type": "code",
   "execution_count": 287,
   "metadata": {},
   "outputs": [
    {
     "name": "stdout",
     "output_type": "stream",
     "text": [
      "<class 'pandas.core.frame.DataFrame'>\n",
      "RangeIndex: 377185 entries, 0 to 377184\n",
      "Data columns (total 18 columns):\n",
      " #   Column        Non-Null Count   Dtype \n",
      "---  ------        --------------   ----- \n",
      " 0   status        337267 non-null  object\n",
      " 1   private pool  4181 non-null    object\n",
      " 2   propertyType  342452 non-null  object\n",
      " 3   street        377183 non-null  object\n",
      " 4   baths         270847 non-null  object\n",
      " 5   homeFacts     377185 non-null  object\n",
      " 6   fireplace     103115 non-null  object\n",
      " 7   city          377151 non-null  object\n",
      " 8   schools       377185 non-null  object\n",
      " 9   sqft          336608 non-null  object\n",
      " 10  zipcode       377185 non-null  object\n",
      " 11  beds          285903 non-null  object\n",
      " 12  state         377185 non-null  object\n",
      " 13  stories       226470 non-null  object\n",
      " 14  mls-id        24942 non-null   object\n",
      " 15  PrivatePool   40311 non-null   object\n",
      " 16  MlsId         310305 non-null  object\n",
      " 17  target        374704 non-null  object\n",
      "dtypes: object(18)\n",
      "memory usage: 51.8+ MB\n"
     ]
    }
   ],
   "source": [
    "df.info()"
   ]
  },
  {
   "cell_type": "code",
   "execution_count": 288,
   "metadata": {},
   "outputs": [],
   "source": [
    "# удалим полные дубликаты строк\n",
    "df = df.drop_duplicates()"
   ]
  },
  {
   "attachments": {},
   "cell_type": "markdown",
   "metadata": {},
   "source": [
    "В датасете достаточно много пропусков. Некоторые столбцы дублируют друг друга. \\\n",
    "Сначала проведем преобразование строк и выделим новые признаки."
   ]
  },
  {
   "attachments": {},
   "cell_type": "markdown",
   "metadata": {},
   "source": [
    "##### Преобразуем столбец с целевым показателем."
   ]
  },
  {
   "cell_type": "code",
   "execution_count": 289,
   "metadata": {},
   "outputs": [],
   "source": [
    "# удаляем строки в которых целевой показатель отсутствует\n",
    "df = df.drop(df[df['target'].isna()].index)"
   ]
  },
  {
   "cell_type": "code",
   "execution_count": 290,
   "metadata": {},
   "outputs": [
    {
     "data": {
      "text/plain": [
       "0           $418,000\n",
       "1           $310,000\n",
       "2         $2,895,000\n",
       "3         $2,395,000\n",
       "4             $5,000\n",
       "             ...    \n",
       "377180    $1,249,000\n",
       "377181      $674,999\n",
       "377182      $528,000\n",
       "377183       $34,500\n",
       "377184      $204,900\n",
       "Name: target, Length: 374642, dtype: object"
      ]
     },
     "execution_count": 290,
     "metadata": {},
     "output_type": "execute_result"
    }
   ],
   "source": [
    "# найдем все строки в которых целевой показатель не является числом\n",
    "df[~df['target'].str.isnumeric()]['target']"
   ]
  },
  {
   "cell_type": "code",
   "execution_count": 291,
   "metadata": {},
   "outputs": [],
   "source": [
    "# уберем знак долара и запятую из целевого показателя для того, чтобы можно было его\n",
    "# преобразовать\n",
    "df['target'] = df['target'].apply(lambda target: target.replace('$', '')\\\n",
    "                                                       .replace(',', ''))"
   ]
  },
  {
   "cell_type": "code",
   "execution_count": 292,
   "metadata": {},
   "outputs": [
    {
     "data": {
      "text/plain": [
       "47        233990+\n",
       "97        331990+\n",
       "112       201990+\n",
       "124       494800+\n",
       "130       590000+\n",
       "           ...   \n",
       "376909    327990+\n",
       "376966    234990+\n",
       "376972    231100+\n",
       "376976    1900/mo\n",
       "377002    433500+\n",
       "Name: target, Length: 7655, dtype: object"
      ]
     },
     "execution_count": 292,
     "metadata": {},
     "output_type": "execute_result"
    }
   ],
   "source": [
    "# еще раз проверим остались ли строки не являющиеся числом в столбце\n",
    "df[~df['target'].str.isnumeric()]['target']"
   ]
  },
  {
   "cell_type": "code",
   "execution_count": 293,
   "metadata": {},
   "outputs": [],
   "source": [
    "# уберем знак плюса из строки с целевым показателем\n",
    "# так как непонятно, что именно он может означать в датасете\n",
    "df['target'] = df['target'].apply(lambda target: target.replace('+', ''))"
   ]
  },
  {
   "cell_type": "code",
   "execution_count": 294,
   "metadata": {},
   "outputs": [
    {
     "data": {
      "text/html": [
       "<div>\n",
       "<style scoped>\n",
       "    .dataframe tbody tr th:only-of-type {\n",
       "        vertical-align: middle;\n",
       "    }\n",
       "\n",
       "    .dataframe tbody tr th {\n",
       "        vertical-align: top;\n",
       "    }\n",
       "\n",
       "    .dataframe thead th {\n",
       "        text-align: right;\n",
       "    }\n",
       "</style>\n",
       "<table border=\"1\" class=\"dataframe\">\n",
       "  <thead>\n",
       "    <tr style=\"text-align: right;\">\n",
       "      <th></th>\n",
       "      <th>status</th>\n",
       "      <th>private pool</th>\n",
       "      <th>propertyType</th>\n",
       "      <th>street</th>\n",
       "      <th>baths</th>\n",
       "      <th>homeFacts</th>\n",
       "      <th>fireplace</th>\n",
       "      <th>city</th>\n",
       "      <th>schools</th>\n",
       "      <th>sqft</th>\n",
       "      <th>zipcode</th>\n",
       "      <th>beds</th>\n",
       "      <th>state</th>\n",
       "      <th>stories</th>\n",
       "      <th>mls-id</th>\n",
       "      <th>PrivatePool</th>\n",
       "      <th>MlsId</th>\n",
       "      <th>target</th>\n",
       "    </tr>\n",
       "  </thead>\n",
       "  <tbody>\n",
       "    <tr>\n",
       "      <th>547</th>\n",
       "      <td>for rent</td>\n",
       "      <td>NaN</td>\n",
       "      <td>single-family home</td>\n",
       "      <td>4323 N Central Park Ave</td>\n",
       "      <td>3.5 Baths</td>\n",
       "      <td>{'atAGlanceFacts': [{'factValue': '1913', 'fac...</td>\n",
       "      <td>yes</td>\n",
       "      <td>Chicago</td>\n",
       "      <td>[{'rating': ['1/10', '4/10', '2/10', 'None/10'...</td>\n",
       "      <td>3,300 sqft</td>\n",
       "      <td>60618</td>\n",
       "      <td>4 Beds</td>\n",
       "      <td>IL</td>\n",
       "      <td>NaN</td>\n",
       "      <td>NaN</td>\n",
       "      <td>NaN</td>\n",
       "      <td>10588057</td>\n",
       "      <td>5500/mo</td>\n",
       "    </tr>\n",
       "    <tr>\n",
       "      <th>609</th>\n",
       "      <td>for rent</td>\n",
       "      <td>NaN</td>\n",
       "      <td>multi-family</td>\n",
       "      <td>220 Boylston St #1412</td>\n",
       "      <td>2 Baths</td>\n",
       "      <td>{'atAGlanceFacts': [{'factValue': '1985', 'fac...</td>\n",
       "      <td>yes</td>\n",
       "      <td>Boston</td>\n",
       "      <td>[{'rating': [], 'data': {'Distance': [], 'Grad...</td>\n",
       "      <td>1,673 sqft</td>\n",
       "      <td>2116</td>\n",
       "      <td>2 Beds</td>\n",
       "      <td>MA</td>\n",
       "      <td>NaN</td>\n",
       "      <td>NaN</td>\n",
       "      <td>NaN</td>\n",
       "      <td>72580936</td>\n",
       "      <td>10500/mo</td>\n",
       "    </tr>\n",
       "    <tr>\n",
       "      <th>2075</th>\n",
       "      <td>for rent</td>\n",
       "      <td>NaN</td>\n",
       "      <td>single-family home</td>\n",
       "      <td>2830 NE 56th Ct</td>\n",
       "      <td>4 Baths</td>\n",
       "      <td>{'atAGlanceFacts': [{'factValue': '1965', 'fac...</td>\n",
       "      <td>NaN</td>\n",
       "      <td>Fort Lauderdale</td>\n",
       "      <td>[{'rating': ['6/10', '2/10', '4/10'], 'data': ...</td>\n",
       "      <td>2,400 sqft</td>\n",
       "      <td>33308</td>\n",
       "      <td>4 Beds</td>\n",
       "      <td>FL</td>\n",
       "      <td>NaN</td>\n",
       "      <td>NaN</td>\n",
       "      <td>yes</td>\n",
       "      <td>A10521855</td>\n",
       "      <td>6390/mo</td>\n",
       "    </tr>\n",
       "    <tr>\n",
       "      <th>3025</th>\n",
       "      <td>for rent</td>\n",
       "      <td>NaN</td>\n",
       "      <td>multi-family</td>\n",
       "      <td>411 Kline Aly</td>\n",
       "      <td>2.5 Baths</td>\n",
       "      <td>{'atAGlanceFacts': [{'factValue': '2014', 'fac...</td>\n",
       "      <td>NaN</td>\n",
       "      <td>Clarksville</td>\n",
       "      <td>[{'rating': ['8/10', '9/10', '7/10'], 'data': ...</td>\n",
       "      <td>1,280 sqft</td>\n",
       "      <td>37040</td>\n",
       "      <td>2 Beds</td>\n",
       "      <td>TN</td>\n",
       "      <td>NaN</td>\n",
       "      <td>NaN</td>\n",
       "      <td>NaN</td>\n",
       "      <td>2102821</td>\n",
       "      <td>1200/mo</td>\n",
       "    </tr>\n",
       "    <tr>\n",
       "      <th>3645</th>\n",
       "      <td>for rent</td>\n",
       "      <td>NaN</td>\n",
       "      <td>multi-family</td>\n",
       "      <td>240 E Illinois St #2011</td>\n",
       "      <td>2 Baths</td>\n",
       "      <td>{'atAGlanceFacts': [{'factValue': '2003', 'fac...</td>\n",
       "      <td>NaN</td>\n",
       "      <td>Chicago</td>\n",
       "      <td>[{'rating': ['4/10', '7/10'], 'data': {'Distan...</td>\n",
       "      <td>1,473 sqft</td>\n",
       "      <td>60611</td>\n",
       "      <td>2 Beds</td>\n",
       "      <td>IL</td>\n",
       "      <td>NaN</td>\n",
       "      <td>NaN</td>\n",
       "      <td>yes</td>\n",
       "      <td>10590275</td>\n",
       "      <td>3600/mo</td>\n",
       "    </tr>\n",
       "    <tr>\n",
       "      <th>...</th>\n",
       "      <td>...</td>\n",
       "      <td>...</td>\n",
       "      <td>...</td>\n",
       "      <td>...</td>\n",
       "      <td>...</td>\n",
       "      <td>...</td>\n",
       "      <td>...</td>\n",
       "      <td>...</td>\n",
       "      <td>...</td>\n",
       "      <td>...</td>\n",
       "      <td>...</td>\n",
       "      <td>...</td>\n",
       "      <td>...</td>\n",
       "      <td>...</td>\n",
       "      <td>...</td>\n",
       "      <td>...</td>\n",
       "      <td>...</td>\n",
       "      <td>...</td>\n",
       "    </tr>\n",
       "    <tr>\n",
       "      <th>371791</th>\n",
       "      <td>for rent</td>\n",
       "      <td>NaN</td>\n",
       "      <td>multi-family</td>\n",
       "      <td>9436 Turrentine Dr</td>\n",
       "      <td>1.5 Baths</td>\n",
       "      <td>{'atAGlanceFacts': [{'factValue': '', 'factLab...</td>\n",
       "      <td>NaN</td>\n",
       "      <td>El Paso</td>\n",
       "      <td>[{'rating': ['4/10', '8/10', '6/10'], 'data': ...</td>\n",
       "      <td>1,050 sqft</td>\n",
       "      <td>79925</td>\n",
       "      <td>2 Beds</td>\n",
       "      <td>TX</td>\n",
       "      <td>NaN</td>\n",
       "      <td>NaN</td>\n",
       "      <td>NaN</td>\n",
       "      <td>820163</td>\n",
       "      <td>890/mo</td>\n",
       "    </tr>\n",
       "    <tr>\n",
       "      <th>372459</th>\n",
       "      <td>for rent</td>\n",
       "      <td>NaN</td>\n",
       "      <td>townhouse</td>\n",
       "      <td>34 Jonquil Pl</td>\n",
       "      <td>2.5 Baths</td>\n",
       "      <td>{'atAGlanceFacts': [{'factValue': '2014', 'fac...</td>\n",
       "      <td>NaN</td>\n",
       "      <td>The Woodlands</td>\n",
       "      <td>[{'rating': ['5/10', '8/10', '7/10', '8/10'], ...</td>\n",
       "      <td>2,601 sqft</td>\n",
       "      <td>77375</td>\n",
       "      <td>3 Beds</td>\n",
       "      <td>TX</td>\n",
       "      <td>NaN</td>\n",
       "      <td>NaN</td>\n",
       "      <td>NaN</td>\n",
       "      <td>62158637</td>\n",
       "      <td>2500/mo</td>\n",
       "    </tr>\n",
       "    <tr>\n",
       "      <th>374288</th>\n",
       "      <td>for rent</td>\n",
       "      <td>NaN</td>\n",
       "      <td>single-family home</td>\n",
       "      <td>8864 Devonshire Dr</td>\n",
       "      <td>2 Baths</td>\n",
       "      <td>{'atAGlanceFacts': [{'factValue': '2016', 'fac...</td>\n",
       "      <td>yes</td>\n",
       "      <td>Fort Worth</td>\n",
       "      <td>[{'rating': ['6/10', '5/10', '5/10'], 'data': ...</td>\n",
       "      <td>2,000 sqft</td>\n",
       "      <td>76131</td>\n",
       "      <td>4 Beds</td>\n",
       "      <td>TX</td>\n",
       "      <td>NaN</td>\n",
       "      <td>NaN</td>\n",
       "      <td>NaN</td>\n",
       "      <td>NaN</td>\n",
       "      <td>2000/mo</td>\n",
       "    </tr>\n",
       "    <tr>\n",
       "      <th>375550</th>\n",
       "      <td>for rent</td>\n",
       "      <td>NaN</td>\n",
       "      <td>townhouse</td>\n",
       "      <td>2217 W Seybert St</td>\n",
       "      <td>NaN</td>\n",
       "      <td>{'atAGlanceFacts': [{'factValue': '1920', 'fac...</td>\n",
       "      <td>NaN</td>\n",
       "      <td>Philadelphia</td>\n",
       "      <td>[{'rating': ['1/10', '3/10'], 'data': {'Distan...</td>\n",
       "      <td>720 sqft</td>\n",
       "      <td>19121</td>\n",
       "      <td>2 Beds</td>\n",
       "      <td>PA</td>\n",
       "      <td>NaN</td>\n",
       "      <td>NaN</td>\n",
       "      <td>NaN</td>\n",
       "      <td>PAPH857944</td>\n",
       "      <td>1500/mo</td>\n",
       "    </tr>\n",
       "    <tr>\n",
       "      <th>376976</th>\n",
       "      <td>for rent</td>\n",
       "      <td>NaN</td>\n",
       "      <td>single-family home</td>\n",
       "      <td>3819 Alabama Ave NE</td>\n",
       "      <td>2 Baths</td>\n",
       "      <td>{'atAGlanceFacts': [{'factValue': '1961', 'fac...</td>\n",
       "      <td>NaN</td>\n",
       "      <td>Saint Petersburg</td>\n",
       "      <td>[{'rating': ['2/10', '5/10', '4/10'], 'data': ...</td>\n",
       "      <td>1,304 sqft</td>\n",
       "      <td>33703</td>\n",
       "      <td>3 Beds</td>\n",
       "      <td>FL</td>\n",
       "      <td>NaN</td>\n",
       "      <td>NaN</td>\n",
       "      <td>NaN</td>\n",
       "      <td>NaN</td>\n",
       "      <td>1900/mo</td>\n",
       "    </tr>\n",
       "  </tbody>\n",
       "</table>\n",
       "<p>398 rows × 18 columns</p>\n",
       "</div>"
      ],
      "text/plain": [
       "          status private pool        propertyType                   street  \\\n",
       "547     for rent          NaN  single-family home  4323 N Central Park Ave   \n",
       "609     for rent          NaN        multi-family    220 Boylston St #1412   \n",
       "2075    for rent          NaN  single-family home          2830 NE 56th Ct   \n",
       "3025    for rent          NaN        multi-family            411 Kline Aly   \n",
       "3645    for rent          NaN        multi-family  240 E Illinois St #2011   \n",
       "...          ...          ...                 ...                      ...   \n",
       "371791  for rent          NaN        multi-family       9436 Turrentine Dr   \n",
       "372459  for rent          NaN           townhouse            34 Jonquil Pl   \n",
       "374288  for rent          NaN  single-family home       8864 Devonshire Dr   \n",
       "375550  for rent          NaN           townhouse        2217 W Seybert St   \n",
       "376976  for rent          NaN  single-family home      3819 Alabama Ave NE   \n",
       "\n",
       "            baths                                          homeFacts  \\\n",
       "547     3.5 Baths  {'atAGlanceFacts': [{'factValue': '1913', 'fac...   \n",
       "609       2 Baths  {'atAGlanceFacts': [{'factValue': '1985', 'fac...   \n",
       "2075      4 Baths  {'atAGlanceFacts': [{'factValue': '1965', 'fac...   \n",
       "3025    2.5 Baths  {'atAGlanceFacts': [{'factValue': '2014', 'fac...   \n",
       "3645      2 Baths  {'atAGlanceFacts': [{'factValue': '2003', 'fac...   \n",
       "...           ...                                                ...   \n",
       "371791  1.5 Baths  {'atAGlanceFacts': [{'factValue': '', 'factLab...   \n",
       "372459  2.5 Baths  {'atAGlanceFacts': [{'factValue': '2014', 'fac...   \n",
       "374288    2 Baths  {'atAGlanceFacts': [{'factValue': '2016', 'fac...   \n",
       "375550        NaN  {'atAGlanceFacts': [{'factValue': '1920', 'fac...   \n",
       "376976    2 Baths  {'atAGlanceFacts': [{'factValue': '1961', 'fac...   \n",
       "\n",
       "       fireplace              city  \\\n",
       "547          yes           Chicago   \n",
       "609          yes            Boston   \n",
       "2075         NaN   Fort Lauderdale   \n",
       "3025         NaN       Clarksville   \n",
       "3645         NaN           Chicago   \n",
       "...          ...               ...   \n",
       "371791       NaN           El Paso   \n",
       "372459       NaN     The Woodlands   \n",
       "374288       yes        Fort Worth   \n",
       "375550       NaN      Philadelphia   \n",
       "376976       NaN  Saint Petersburg   \n",
       "\n",
       "                                                  schools        sqft zipcode  \\\n",
       "547     [{'rating': ['1/10', '4/10', '2/10', 'None/10'...  3,300 sqft   60618   \n",
       "609     [{'rating': [], 'data': {'Distance': [], 'Grad...  1,673 sqft    2116   \n",
       "2075    [{'rating': ['6/10', '2/10', '4/10'], 'data': ...  2,400 sqft   33308   \n",
       "3025    [{'rating': ['8/10', '9/10', '7/10'], 'data': ...  1,280 sqft   37040   \n",
       "3645    [{'rating': ['4/10', '7/10'], 'data': {'Distan...  1,473 sqft   60611   \n",
       "...                                                   ...         ...     ...   \n",
       "371791  [{'rating': ['4/10', '8/10', '6/10'], 'data': ...  1,050 sqft   79925   \n",
       "372459  [{'rating': ['5/10', '8/10', '7/10', '8/10'], ...  2,601 sqft   77375   \n",
       "374288  [{'rating': ['6/10', '5/10', '5/10'], 'data': ...  2,000 sqft   76131   \n",
       "375550  [{'rating': ['1/10', '3/10'], 'data': {'Distan...    720 sqft   19121   \n",
       "376976  [{'rating': ['2/10', '5/10', '4/10'], 'data': ...  1,304 sqft   33703   \n",
       "\n",
       "          beds state stories mls-id PrivatePool       MlsId    target  \n",
       "547     4 Beds    IL     NaN    NaN         NaN    10588057   5500/mo  \n",
       "609     2 Beds    MA     NaN    NaN         NaN    72580936  10500/mo  \n",
       "2075    4 Beds    FL     NaN    NaN         yes   A10521855   6390/mo  \n",
       "3025    2 Beds    TN     NaN    NaN         NaN     2102821   1200/mo  \n",
       "3645    2 Beds    IL     NaN    NaN         yes    10590275   3600/mo  \n",
       "...        ...   ...     ...    ...         ...         ...       ...  \n",
       "371791  2 Beds    TX     NaN    NaN         NaN      820163    890/mo  \n",
       "372459  3 Beds    TX     NaN    NaN         NaN    62158637   2500/mo  \n",
       "374288  4 Beds    TX     NaN    NaN         NaN         NaN   2000/mo  \n",
       "375550  2 Beds    PA     NaN    NaN         NaN  PAPH857944   1500/mo  \n",
       "376976  3 Beds    FL     NaN    NaN         NaN         NaN   1900/mo  \n",
       "\n",
       "[398 rows x 18 columns]"
      ]
     },
     "execution_count": 294,
     "metadata": {},
     "output_type": "execute_result"
    }
   ],
   "source": [
    "# проверим строки в которых содержится подстрока \\mo\n",
    "df[df['target'].str.contains('/mo')]"
   ]
  },
  {
   "attachments": {},
   "cell_type": "markdown",
   "metadata": {},
   "source": [
    "Судя по всему в данном датасете также содержится информация о собственности домов сдающихся в аренду. Но так как нам необходимо построить модель которая будет предсказывать стоимость домов, а не аренду, удалим данные строки из датасета"
   ]
  },
  {
   "cell_type": "code",
   "execution_count": 295,
   "metadata": {},
   "outputs": [],
   "source": [
    "df = df.drop(df[df['target'].str.contains('/mo')].index)"
   ]
  },
  {
   "cell_type": "code",
   "execution_count": 296,
   "metadata": {},
   "outputs": [
    {
     "data": {
      "text/plain": [
       "Series([], Name: target, dtype: object)"
      ]
     },
     "execution_count": 296,
     "metadata": {},
     "output_type": "execute_result"
    }
   ],
   "source": [
    "# еще раз сделаем проверку, что в датасете не осталось строк, которые не являются числом\n",
    "df[~df['target'].str.isnumeric()]['target']"
   ]
  },
  {
   "cell_type": "code",
   "execution_count": 297,
   "metadata": {},
   "outputs": [],
   "source": [
    "# преобразуем столбец к числовому виду\n",
    "df['target'] = df['target'].astype(float)"
   ]
  },
  {
   "attachments": {},
   "cell_type": "markdown",
   "metadata": {},
   "source": [
    "##### Преобразуем столбец со статусом собственности."
   ]
  },
  {
   "cell_type": "code",
   "execution_count": 298,
   "metadata": {},
   "outputs": [
    {
     "data": {
      "text/plain": [
       "for sale                   156054\n",
       "Active                     105206\n",
       "For sale                    43464\n",
       "foreclosure                  5677\n",
       "New construction             5458\n",
       "                            ...  \n",
       "Coming soon: Nov 8.             1\n",
       "Coming soon: Oct 29.            1\n",
       "Coming soon: Dec 15.            1\n",
       "Pending W/Backup Wanted         1\n",
       "Coming soon: Dec 23.            1\n",
       "Name: status, Length: 155, dtype: int64"
      ]
     },
     "execution_count": 298,
     "metadata": {},
     "output_type": "execute_result"
    }
   ],
   "source": [
    "# посмотрим на значения в столбце\n",
    "df['status'].value_counts()"
   ]
  },
  {
   "attachments": {},
   "cell_type": "markdown",
   "metadata": {},
   "source": [
    "Похоже, что некоторые значения дублируются в разном регистре. Необходимо это учесть при преобразовании."
   ]
  },
  {
   "cell_type": "code",
   "execution_count": 299,
   "metadata": {},
   "outputs": [
    {
     "data": {
      "text/plain": [
       "for sale                     199520\n",
       "active                       105206\n",
       "foreclosure                    6020\n",
       "new construction               5458\n",
       "pending                        4802\n",
       "pre-foreclosure                2000\n",
       "p                              1488\n",
       "pre-foreclosure / auction      1281\n",
       "under contract show            1183\n",
       " / auction                      799\n",
       "Name: status, dtype: int64"
      ]
     },
     "execution_count": 299,
     "metadata": {},
     "output_type": "execute_result"
    }
   ],
   "source": [
    "# посмотрим на значения в столбце, игнорируя регистр\n",
    "df['status'].str.lower().value_counts().head(10)"
   ]
  },
  {
   "attachments": {},
   "cell_type": "markdown",
   "metadata": {},
   "source": [
    "Большая часть собственности имеет статус 'for sale' или 'active'. Оставим эти два статуса, а остальные сгруппируем в один."
   ]
  },
  {
   "cell_type": "code",
   "execution_count": 300,
   "metadata": {},
   "outputs": [],
   "source": [
    "def group_status(status: str):\n",
    "    if (status is not np.NaN and status.lower() in ['for sale', 'active']):\n",
    "        return status.lower()\n",
    "    return 'other'"
   ]
  },
  {
   "cell_type": "code",
   "execution_count": 301,
   "metadata": {},
   "outputs": [],
   "source": [
    "df['status'] = df['status'].apply(group_status)"
   ]
  },
  {
   "cell_type": "code",
   "execution_count": 302,
   "metadata": {},
   "outputs": [
    {
     "data": {
      "text/plain": [
       "for sale    199520\n",
       "active      105206\n",
       "other        69531\n",
       "Name: status, dtype: int64"
      ]
     },
     "execution_count": 302,
     "metadata": {},
     "output_type": "execute_result"
    }
   ],
   "source": [
    "# проверим итоговый результат преобразования столбца\n",
    "df['status'].value_counts()"
   ]
  },
  {
   "attachments": {},
   "cell_type": "markdown",
   "metadata": {},
   "source": [
    "##### Преобразуем столбец с информацией о наличии бассейна"
   ]
  },
  {
   "attachments": {},
   "cell_type": "markdown",
   "metadata": {},
   "source": [
    "Датасет содержит два столбца с информацией о наличии бассейна. Cоздадим новый столбец на основе двух существующих столбцов."
   ]
  },
  {
   "cell_type": "code",
   "execution_count": 303,
   "metadata": {},
   "outputs": [
    {
     "name": "stdout",
     "output_type": "stream",
     "text": [
      "yes    4151\n",
      "Name: private pool, dtype: int64\n",
      "yes    40025\n",
      "Name: PrivatePool, dtype: int64\n"
     ]
    }
   ],
   "source": [
    "# проверим содержимое полей\n",
    "print(df['private pool'].str.lower().value_counts())\n",
    "print(df['PrivatePool'].str.lower().value_counts())"
   ]
  },
  {
   "cell_type": "code",
   "execution_count": 304,
   "metadata": {},
   "outputs": [],
   "source": [
    "# функция для определения наличия бассейна\n",
    "def fill_pool_data(df: pd.DataFrame):\n",
    "    if (df['PrivatePool'] is not np.NaN and df['PrivatePool'].lower() == 'yes'):\n",
    "        return 1\n",
    "    if (df['private pool'] is not np.NaN and df['private pool'].lower() == 'yes'):\n",
    "        return 1\n",
    "    return 0"
   ]
  },
  {
   "cell_type": "code",
   "execution_count": 305,
   "metadata": {},
   "outputs": [],
   "source": [
    "df['private_pool'] = df.apply(fill_pool_data, axis=1)"
   ]
  },
  {
   "cell_type": "code",
   "execution_count": 306,
   "metadata": {},
   "outputs": [],
   "source": [
    "# удаляем столбцы, которые больше не нужны\n",
    "df = df.drop(['PrivatePool', 'private pool'], axis=1)"
   ]
  },
  {
   "attachments": {},
   "cell_type": "markdown",
   "metadata": {},
   "source": [
    "##### Преобразуем столбец с типом собственности."
   ]
  },
  {
   "cell_type": "code",
   "execution_count": 307,
   "metadata": {},
   "outputs": [
    {
     "data": {
      "text/plain": [
       "single-family home                                             91153\n",
       "Single Family                                                  61886\n",
       "Single Family Home                                             31725\n",
       "condo                                                          25874\n",
       "lot/land                                                       20506\n",
       "                                                               ...  \n",
       "1 Story, Contemporary, Other (See Remarks)                         1\n",
       "Custom, Elevated, Other                                            1\n",
       "Contemporary, Farmhouse                                            1\n",
       "2 Stories, Traditional, Mediterranean, Texas Hill Country          1\n",
       "Bilevel, Converted Dwelling, Loft with Bedrooms, Condo/Unit        1\n",
       "Name: propertyType, Length: 1279, dtype: int64"
      ]
     },
     "execution_count": 307,
     "metadata": {},
     "output_type": "execute_result"
    }
   ],
   "source": [
    "# посмотрим на значения в столбце\n",
    "df['propertyType'].value_counts()"
   ]
  },
  {
   "cell_type": "code",
   "execution_count": 308,
   "metadata": {},
   "outputs": [
    {
     "data": {
      "text/plain": [
       "single-family home               91153\n",
       "Single Family                    61886\n",
       "Single Family Home               31725\n",
       "condo                            25874\n",
       "lot/land                         20506\n",
       "Condo                            16494\n",
       "townhouse                        11388\n",
       "Land                             10933\n",
       "multi-family                      7742\n",
       "Condo/Townhome/Row Home/Co-Op     7701\n",
       "Townhouse                         6909\n",
       "Traditional                       5912\n",
       "coop                              3264\n",
       "Multi Family                      2771\n",
       "High Rise                         1823\n",
       "Name: propertyType, dtype: int64"
      ]
     },
     "execution_count": 308,
     "metadata": {},
     "output_type": "execute_result"
    }
   ],
   "source": [
    "# посмотрим на 15 самых популярных значения\n",
    "df['propertyType'].value_counts().head(15)"
   ]
  },
  {
   "attachments": {},
   "cell_type": "markdown",
   "metadata": {},
   "source": [
    "Похоже часть значений дублируется с разным написанием. Сгруппируем значения самых популярных типов."
   ]
  },
  {
   "cell_type": "code",
   "execution_count": 309,
   "metadata": {},
   "outputs": [],
   "source": [
    "def rename_property_type(type: str):\n",
    "    if type is np.NaN:\n",
    "        return np.NaN\n",
    "    \n",
    "    type = type.lower()\n",
    "    if ('single' in type and ('family' in type or 'detached' in type)):\n",
    "        return 'single-family home'\n",
    "    if ('multi' in type and 'family' in type):\n",
    "        return 'multi-family home'\n",
    "    if ('lot' in type or 'land' in type):\n",
    "        return 'land'\n",
    "    return type"
   ]
  },
  {
   "cell_type": "code",
   "execution_count": 310,
   "metadata": {},
   "outputs": [],
   "source": [
    "df['propertyType'] = df['propertyType'].apply(rename_property_type)"
   ]
  },
  {
   "cell_type": "code",
   "execution_count": 311,
   "metadata": {},
   "outputs": [
    {
     "data": {
      "text/plain": [
       "single-family home               188094\n",
       "condo                             42368\n",
       "land                              31473\n",
       "townhouse                         18297\n",
       "multi-family home                 12037\n",
       "condo/townhome/row home/co-op      7701\n",
       "traditional                        5912\n",
       "coop                               3264\n",
       "high rise                          1823\n",
       "ranch                              1781\n",
       "detached, one story                1614\n",
       "mobile/manufactured                1613\n",
       "contemporary                       1556\n",
       "1 story                            1235\n",
       "colonial                           1204\n",
       "Name: propertyType, dtype: int64"
      ]
     },
     "execution_count": 311,
     "metadata": {},
     "output_type": "execute_result"
    }
   ],
   "source": [
    "# посмотрим на результат группировки\n",
    "df['propertyType'].value_counts().head(15)"
   ]
  },
  {
   "cell_type": "code",
   "execution_count": 312,
   "metadata": {},
   "outputs": [],
   "source": [
    "# заменим пропуски на самое популярное значение\n",
    "property_type_fill_string = df['propertyType'].value_counts().head(1).index[0]\n",
    "df['propertyType'] = df['propertyType'].fillna(property_type_fill_string)"
   ]
  },
  {
   "cell_type": "code",
   "execution_count": 313,
   "metadata": {},
   "outputs": [
    {
     "data": {
      "text/plain": [
       "single-family home               222648\n",
       "condo                             42368\n",
       "land                              31473\n",
       "townhouse                         18297\n",
       "multi-family home                 12037\n",
       "condo/townhome/row home/co-op      7701\n",
       "traditional                        5912\n",
       "coop                               3264\n",
       "high rise                          1823\n",
       "ranch                              1781\n",
       "Name: propertyType, dtype: int64"
      ]
     },
     "execution_count": 313,
     "metadata": {},
     "output_type": "execute_result"
    }
   ],
   "source": [
    "df['propertyType'].value_counts().head(10)"
   ]
  },
  {
   "attachments": {},
   "cell_type": "markdown",
   "metadata": {},
   "source": [
    "Оставим 5 самых популярных значения остальные сгруппируем в одно"
   ]
  },
  {
   "cell_type": "code",
   "execution_count": 314,
   "metadata": {},
   "outputs": [],
   "source": [
    "def group_property_type(type: str):\n",
    "    if (type in ['single-family home', 'condo', 'land', 'townhouse', 'multi-family home']):\n",
    "        return type\n",
    "    return 'other'"
   ]
  },
  {
   "cell_type": "code",
   "execution_count": 315,
   "metadata": {},
   "outputs": [],
   "source": [
    "df['propertyType'] = df['propertyType'].apply(group_property_type)"
   ]
  },
  {
   "cell_type": "code",
   "execution_count": 316,
   "metadata": {},
   "outputs": [
    {
     "data": {
      "text/plain": [
       "single-family home    222648\n",
       "other                  47434\n",
       "condo                  42368\n",
       "land                   31473\n",
       "townhouse              18297\n",
       "multi-family home      12037\n",
       "Name: propertyType, dtype: int64"
      ]
     },
     "execution_count": 316,
     "metadata": {},
     "output_type": "execute_result"
    }
   ],
   "source": [
    "# посмотрим на результат\n",
    "df['propertyType'].value_counts()"
   ]
  },
  {
   "attachments": {},
   "cell_type": "markdown",
   "metadata": {},
   "source": [
    "##### Преобразуем столбец с улицей"
   ]
  },
  {
   "cell_type": "code",
   "execution_count": 317,
   "metadata": {},
   "outputs": [
    {
     "data": {
      "text/plain": [
       "Address Not Disclosed         672\n",
       "Undisclosed Address           516\n",
       "(undisclosed Address)         391\n",
       "Address Not Available         175\n",
       "Unknown Address                72\n",
       "2103 E State Hwy 21            57\n",
       "11305 Gulf Fwy                 54\n",
       "17030 Youngblood Rd.           38\n",
       "NE 58th Cir                    34\n",
       "9470 Lancaster Rd. SW          32\n",
       "1 Palmer Dr                    27\n",
       "8426 Terrace Valley Circle     25\n",
       "9845 Basil Western Rd NW       25\n",
       "6320 SW 89th Court Road        24\n",
       "8447 SW 99th Street Rd         22\n",
       "Name: street, dtype: int64"
      ]
     },
     "execution_count": 317,
     "metadata": {},
     "output_type": "execute_result"
    }
   ],
   "source": [
    "# проверим количество уникальных улиц\n",
    "df['street'].value_counts().head(15)"
   ]
  },
  {
   "attachments": {},
   "cell_type": "markdown",
   "metadata": {},
   "source": [
    "В столбце слишком много уникальных значений. Скорее всего из-за того, что кроме улицы, значение также содержит номер дома. Уберем номер дома, а так же сгруппируем неисвезтные адреса в одно значение."
   ]
  },
  {
   "cell_type": "code",
   "execution_count": 318,
   "metadata": {},
   "outputs": [],
   "source": [
    "def rename_street(street: str):\n",
    "    \n",
    "    if street is np.NaN:\n",
    "        return 'unknown'\n",
    "    \n",
    "    street = street.lower()\n",
    "    \n",
    "    if ('undisclosed' in street \\\n",
    "        or 'not disclosed' in street \\\n",
    "        or 'not available' in street \\\n",
    "        or 'unknown' in street):\n",
    "        \n",
    "        return 'unknown'\n",
    "    \n",
    "    splited_street = street.split()\n",
    "    \n",
    "    if splited_street[0].isnumeric():\n",
    "        return ' '.join(splited_street[1:])\n",
    "    \n",
    "    return street"
   ]
  },
  {
   "cell_type": "code",
   "execution_count": 319,
   "metadata": {},
   "outputs": [
    {
     "data": {
      "text/plain": [
       "unknown                 1837\n",
       "riverside dr              84\n",
       "w 24th st                 78\n",
       "main st                   76\n",
       "glasgow dr                72\n",
       "                        ... \n",
       "algonquin rd               1\n",
       "collins ave apt 3101       1\n",
       "stone house dr             1\n",
       "township road 106          1\n",
       "pereida st                 1\n",
       "Name: street, Length: 189704, dtype: int64"
      ]
     },
     "execution_count": 319,
     "metadata": {},
     "output_type": "execute_result"
    }
   ],
   "source": [
    "# проверим сколько остается значений после применения функции\n",
    "df['street'].apply(rename_street).value_counts()"
   ]
  },
  {
   "attachments": {},
   "cell_type": "markdown",
   "metadata": {},
   "source": [
    "Уникальных значений в столбце даже после удаления номера дома все равно слишком много. Удалим столбец."
   ]
  },
  {
   "cell_type": "code",
   "execution_count": 320,
   "metadata": {},
   "outputs": [],
   "source": [
    "df = df.drop('street', axis=1)"
   ]
  },
  {
   "attachments": {},
   "cell_type": "markdown",
   "metadata": {},
   "source": [
    "##### Преобразуем столбец с количеством ванных комнат"
   ]
  },
  {
   "cell_type": "code",
   "execution_count": 321,
   "metadata": {},
   "outputs": [
    {
     "data": {
      "text/plain": [
       "2 Baths          51945\n",
       "3 Baths          35353\n",
       "2                20429\n",
       "2.0              16354\n",
       "4 Baths          14711\n",
       "                 ...  \n",
       "32                   1\n",
       "5.25 Baths           1\n",
       "41.0                 1\n",
       "Bathrooms: 21        1\n",
       "44.0                 1\n",
       "Name: baths, Length: 225, dtype: int64"
      ]
     },
     "execution_count": 321,
     "metadata": {},
     "output_type": "execute_result"
    }
   ],
   "source": [
    "# проверим уникальные значения в столбце\n",
    "df['baths'].value_counts()"
   ]
  },
  {
   "attachments": {},
   "cell_type": "markdown",
   "metadata": {},
   "source": [
    "Преобразуем значения в числовой тип."
   ]
  },
  {
   "cell_type": "code",
   "execution_count": 322,
   "metadata": {},
   "outputs": [],
   "source": [
    "def rename_bath(bath: str):\n",
    "    if bath is np.NaN:\n",
    "        return np.NaN\n",
    "\n",
    "    bath = bath.replace(',', '')\n",
    "    \n",
    "    match = re.search('[0-9]+\\.?[0-9]*', bath)\n",
    "    if match:\n",
    "        bath = match.group()\n",
    "    else:\n",
    "        bath = ''\n",
    "    \n",
    "    if bath == '':\n",
    "        return '0'\n",
    "    \n",
    "    return bath.strip()"
   ]
  },
  {
   "cell_type": "code",
   "execution_count": 323,
   "metadata": {},
   "outputs": [],
   "source": [
    "df['baths'] = df['baths'].apply(rename_bath).astype(float)"
   ]
  },
  {
   "attachments": {},
   "cell_type": "markdown",
   "metadata": {},
   "source": [
    "##### Преобразуем столбец с данными о площади"
   ]
  },
  {
   "cell_type": "code",
   "execution_count": 324,
   "metadata": {},
   "outputs": [
    {
     "data": {
      "text/plain": [
       "0                                          11853\n",
       "1,200 sqft                                   824\n",
       "1,000 sqft                                   643\n",
       "1,100 sqft                                   566\n",
       "1,800 sqft                                   558\n",
       "                                           ...  \n",
       "101,415 sqft                                   1\n",
       "3938                                           1\n",
       "Total interior livable area: 4,580 sqft        1\n",
       "32,552 sqft                                    1\n",
       "Total interior livable area: 4,615 sqft        1\n",
       "Name: sqft, Length: 25369, dtype: int64"
      ]
     },
     "execution_count": 324,
     "metadata": {},
     "output_type": "execute_result"
    }
   ],
   "source": [
    "df['sqft'].value_counts()"
   ]
  },
  {
   "cell_type": "code",
   "execution_count": 325,
   "metadata": {},
   "outputs": [],
   "source": [
    "def transform_sqft(sqft: str):\n",
    "    if sqft is np.NaN or '--' in sqft:\n",
    "        return np.NaN\n",
    "    \n",
    "    if type(sqft) is float:\n",
    "        return sqft\n",
    "    \n",
    "    sqft = sqft.replace(',', '')\n",
    "    match = re.search('[0-9]+\\.?[0-9]*', sqft)\n",
    "    if match:\n",
    "        sqft = match.group()\n",
    "    \n",
    "    return sqft\n",
    "    "
   ]
  },
  {
   "cell_type": "code",
   "execution_count": 326,
   "metadata": {},
   "outputs": [],
   "source": [
    "df['sqft'] = df['sqft'].apply(transform_sqft).astype(float)"
   ]
  },
  {
   "attachments": {},
   "cell_type": "markdown",
   "metadata": {},
   "source": [
    "##### Проведем преобразование данных о доме."
   ]
  },
  {
   "cell_type": "code",
   "execution_count": 327,
   "metadata": {},
   "outputs": [
    {
     "data": {
      "text/plain": [
       "0    {'atAGlanceFacts': [{'factValue': '2019', 'fac...\n",
       "1    {'atAGlanceFacts': [{'factValue': '2019', 'fac...\n",
       "2    {'atAGlanceFacts': [{'factValue': '1961', 'fac...\n",
       "3    {'atAGlanceFacts': [{'factValue': '2006', 'fac...\n",
       "4    {'atAGlanceFacts': [{'factValue': '', 'factLab...\n",
       "Name: homeFacts, dtype: object"
      ]
     },
     "execution_count": 327,
     "metadata": {},
     "output_type": "execute_result"
    }
   ],
   "source": [
    "# посмотрим, что хранится в этом признаке\n",
    "df['homeFacts'].head()"
   ]
  },
  {
   "attachments": {},
   "cell_type": "markdown",
   "metadata": {},
   "source": [
    "Похоже, что в столбце хранится словарь с данными о доме. Посмотрим какие данные можно найти в данном словаре."
   ]
  },
  {
   "cell_type": "code",
   "execution_count": 328,
   "metadata": {},
   "outputs": [
    {
     "name": "stdout",
     "output_type": "stream",
     "text": [
      "{'atAGlanceFacts'}\n"
     ]
    }
   ],
   "source": [
    "keys = set()\n",
    "\n",
    "def get_keyset_from_dict(dict_string: str):\n",
    "    d = ast.literal_eval(dict_string)\n",
    "    keys.update(d.keys())\n",
    "    \n",
    "df['homeFacts'].apply(get_keyset_from_dict)\n",
    "\n",
    "print(keys)"
   ]
  },
  {
   "attachments": {},
   "cell_type": "markdown",
   "metadata": {},
   "source": [
    "Словарь содержит только один ключ, в котором хранится массив данных, которые тоже представляют собой словарь. Проверим какие типы данных встречаются у домов"
   ]
  },
  {
   "cell_type": "code",
   "execution_count": 329,
   "metadata": {},
   "outputs": [
    {
     "name": "stdout",
     "output_type": "stream",
     "text": [
      "{'lotsize', 'Remodeled year', 'Price/sqft', 'Year built', 'Heating', 'Parking', 'Cooling'}\n"
     ]
    }
   ],
   "source": [
    "labels = set()\n",
    "\n",
    "def get_labels_from_home_facts(dict_string: str):\n",
    "    d = ast.literal_eval(dict_string)\n",
    "    facts = d['atAGlanceFacts']\n",
    "    for fact in facts:\n",
    "        labels.add(fact['factLabel'])\n",
    "    \n",
    "df['homeFacts'].apply(get_labels_from_home_facts)\n",
    "\n",
    "print(labels)"
   ]
  },
  {
   "attachments": {},
   "cell_type": "markdown",
   "metadata": {},
   "source": [
    "Итак в словаре хранятся данные о годе последней реконструкции дома, паркинге, стоимости квадратного фута, обогреве, охлаждении, размере участка и годе постройки. Извлечем эти данные в отдельные столбцы."
   ]
  },
  {
   "cell_type": "code",
   "execution_count": 330,
   "metadata": {},
   "outputs": [],
   "source": [
    "def transform_home_facts(dict_string: str):\n",
    "    new_home_facts = dict()\n",
    "    d = ast.literal_eval(dict_string)\n",
    "    facts = d['atAGlanceFacts']\n",
    "    for fact in facts:\n",
    "        new_home_facts[fact['factLabel']] = fact['factValue']\n",
    "    \n",
    "    return new_home_facts"
   ]
  },
  {
   "cell_type": "code",
   "execution_count": 331,
   "metadata": {},
   "outputs": [],
   "source": [
    "# преобразуем структуры, чтобы было легчи извлекать значения\n",
    "df['transformed_home_facts'] = df['homeFacts'].apply(transform_home_facts)"
   ]
  },
  {
   "cell_type": "code",
   "execution_count": 332,
   "metadata": {},
   "outputs": [],
   "source": [
    "# разобъем словарь на отдельные признаки\n",
    "df['remodeled_year'] = df['transformed_home_facts'].apply(lambda d: d['Remodeled year'])\n",
    "df['parking'] = df['transformed_home_facts'].apply(lambda d: d['Parking'])\n",
    "df['price_for_sqft'] = df['transformed_home_facts'].apply(lambda d: d['Price/sqft'])\n",
    "df['heating'] = df['transformed_home_facts'].apply(lambda d: d['Heating'])\n",
    "df['lot_size'] = df['transformed_home_facts'].apply(lambda d: d['lotsize'])\n",
    "df['cooling'] = df['transformed_home_facts'].apply(lambda d: d['Cooling'])\n",
    "df['year_built'] = df['transformed_home_facts'].apply(lambda d: d['Year built'])"
   ]
  },
  {
   "cell_type": "code",
   "execution_count": 333,
   "metadata": {},
   "outputs": [],
   "source": [
    "# уберем ненужные теперь столбцы\n",
    "df = df.drop(['homeFacts', 'transformed_home_facts'], axis=1)"
   ]
  },
  {
   "attachments": {},
   "cell_type": "markdown",
   "metadata": {},
   "source": [
    "Преобразуем созданные признаки."
   ]
  },
  {
   "cell_type": "code",
   "execution_count": 334,
   "metadata": {},
   "outputs": [
    {
     "data": {
      "text/plain": [
       "        58477\n",
       "2019    32134\n",
       "2006     7945\n",
       "2005     7444\n",
       "2007     7080\n",
       "        ...  \n",
       "1740        1\n",
       "1845        1\n",
       "1208        1\n",
       "1823        1\n",
       "1804        1\n",
       "Name: year_built, Length: 228, dtype: int64"
      ]
     },
     "execution_count": 334,
     "metadata": {},
     "output_type": "execute_result"
    }
   ],
   "source": [
    "df['year_built'].value_counts()"
   ]
  },
  {
   "cell_type": "code",
   "execution_count": 335,
   "metadata": {},
   "outputs": [],
   "source": [
    "df['year_built'] = df['year_built'].apply(lambda year: np.NaN if year is None or year == '' or year == 'No Data' else year).astype(float)"
   ]
  },
  {
   "cell_type": "code",
   "execution_count": 336,
   "metadata": {},
   "outputs": [
    {
     "data": {
      "text/plain": [
       "        198085\n",
       "2006      5493\n",
       "2005      4777\n",
       "2007      4355\n",
       "2008      3764\n",
       "         ...  \n",
       "1888         1\n",
       "1800         1\n",
       "1738         1\n",
       "1869         1\n",
       "1862         1\n",
       "Name: remodeled_year, Length: 154, dtype: int64"
      ]
     },
     "execution_count": 336,
     "metadata": {},
     "output_type": "execute_result"
    }
   ],
   "source": [
    "df['remodeled_year'].value_counts()"
   ]
  },
  {
   "cell_type": "code",
   "execution_count": 337,
   "metadata": {},
   "outputs": [],
   "source": [
    "df['remodeled_year'] = df['remodeled_year'].apply(lambda year: 0 if year is None or year == '' else year).astype(int)"
   ]
  },
  {
   "cell_type": "code",
   "execution_count": 338,
   "metadata": {},
   "outputs": [
    {
     "data": {
      "text/plain": [
       "                            170788\n",
       "Attached Garage              70240\n",
       "2 spaces                     27865\n",
       "1 space                      14109\n",
       "Detached Garage              13093\n",
       "No Data                      13022\n",
       "Carport                       7664\n",
       "3 spaces                      4702\n",
       "Off Street                    3563\n",
       "Carport, Attached Garage      3006\n",
       "1                             2928\n",
       "4 spaces                      2900\n",
       "2                             2745\n",
       "None                          2342\n",
       "Off street                    1639\n",
       "Name: parking, dtype: int64"
      ]
     },
     "execution_count": 338,
     "metadata": {},
     "output_type": "execute_result"
    }
   ],
   "source": [
    "df['parking'].value_counts().head(15)"
   ]
  },
  {
   "cell_type": "code",
   "execution_count": 339,
   "metadata": {},
   "outputs": [],
   "source": [
    "def transform_parking(parking):\n",
    "    if parking is np.NaN or parking is None or parking == '':\n",
    "        return np.NaN\n",
    "    \n",
    "    if parking.lower() in ['no data', 'none']:\n",
    "        return '0'\n",
    "    \n",
    "    if 'Garage' in parking or 'Carport' in parking:\n",
    "        return '1'\n",
    "    \n",
    "    match = re.search('[0-9]+', parking)\n",
    "    if match:\n",
    "        return match.group()\n",
    "    \n",
    "    return '1'"
   ]
  },
  {
   "cell_type": "code",
   "execution_count": 340,
   "metadata": {},
   "outputs": [],
   "source": [
    "df['parking'] = df['parking'].apply(transform_parking).astype(float)"
   ]
  },
  {
   "cell_type": "code",
   "execution_count": 341,
   "metadata": {},
   "outputs": [
    {
     "data": {
      "text/plain": [
       "0              $144\n",
       "1         $159/sqft\n",
       "2         $965/sqft\n",
       "3         $371/sqft\n",
       "4              None\n",
       "            ...    \n",
       "377180         $311\n",
       "377181    $337/sqft\n",
       "377182    $458/sqft\n",
       "377183         None\n",
       "377184         $140\n",
       "Name: price_for_sqft, Length: 374257, dtype: object"
      ]
     },
     "execution_count": 341,
     "metadata": {},
     "output_type": "execute_result"
    }
   ],
   "source": [
    "df['price_for_sqft']"
   ]
  },
  {
   "cell_type": "code",
   "execution_count": 342,
   "metadata": {},
   "outputs": [],
   "source": [
    "def transform_price_for_sqft(price):\n",
    "    if price is np.NaN or price is None or price == 'No Info' or price == 'No Data' or price == '' or price == 'Contact manager':\n",
    "        return 0\n",
    "    \n",
    "    price = price.replace('$', '')\n",
    "    price = price.replace('/sqft', '')\n",
    "    price = price.replace(' / Sq. Ft.', '')\n",
    "    price = price.replace(',', '')\n",
    "    \n",
    "    \n",
    "    return price"
   ]
  },
  {
   "cell_type": "code",
   "execution_count": 343,
   "metadata": {},
   "outputs": [],
   "source": [
    "df['price_for_sqft'] = df['price_for_sqft'].apply(transform_price_for_sqft).astype(float)"
   ]
  },
  {
   "cell_type": "code",
   "execution_count": 344,
   "metadata": {},
   "outputs": [
    {
     "data": {
      "text/plain": [
       "0        -0.095694\n",
       "1        -0.137742\n",
       "2         0.000000\n",
       "3         0.022839\n",
       "4              NaN\n",
       "            ...   \n",
       "377180    0.022978\n",
       "377181   -0.148000\n",
       "377182   -0.072727\n",
       "377183         NaN\n",
       "377184   -0.107369\n",
       "Length: 374257, dtype: float64"
      ]
     },
     "execution_count": 344,
     "metadata": {},
     "output_type": "execute_result"
    }
   ],
   "source": [
    "# проверим нет ли в данном столбце утечки данных\n",
    "df['price_for_sqft'] * df['sqft'].apply(lambda x: 0 if x is np.NaN else x) / df['target'] * 100 - 100"
   ]
  },
  {
   "attachments": {},
   "cell_type": "markdown",
   "metadata": {},
   "source": [
    "Судя по ввсему данный столбец может быть использован для вывода целевого значения. Необходимо его удалить."
   ]
  },
  {
   "cell_type": "code",
   "execution_count": 345,
   "metadata": {},
   "outputs": [],
   "source": [
    "df = df.drop('price_for_sqft', axis=1)"
   ]
  },
  {
   "cell_type": "code",
   "execution_count": 346,
   "metadata": {},
   "outputs": [
    {
     "data": {
      "text/plain": [
       "forced air           133475\n",
       "                     104899\n",
       "other                 29054\n",
       "electric              10174\n",
       "gas                    9261\n",
       "heat pump              8806\n",
       "no data                8415\n",
       "central air            7814\n",
       "central electric       7111\n",
       "central                6245\n",
       "central, electric      4252\n",
       "baseboard              3771\n",
       "wall                   3277\n",
       "electric heat          3064\n",
       "heating system         2709\n",
       "Name: heating, dtype: int64"
      ]
     },
     "execution_count": 346,
     "metadata": {},
     "output_type": "execute_result"
    }
   ],
   "source": [
    "df['heating'].str.lower().value_counts().head(15)"
   ]
  },
  {
   "cell_type": "code",
   "execution_count": 347,
   "metadata": {},
   "outputs": [],
   "source": [
    "def transform_heating(heating: str):\n",
    "    if heating is np.NaN or heating is None or heating.lower() in ['', 'no data']:\n",
    "        return np.NaN\n",
    "    \n",
    "    heating = heating.lower()\n",
    "    if 'gas' in heating:\n",
    "        return 'gas'\n",
    "    \n",
    "    if 'electric' in heating:\n",
    "        return 'electric'\n",
    "    \n",
    "    if 'air' in heating:\n",
    "        return 'air'\n",
    "    \n",
    "    return 'other'\n",
    "    "
   ]
  },
  {
   "cell_type": "code",
   "execution_count": 349,
   "metadata": {},
   "outputs": [],
   "source": [
    "df['heating'] = df['heating'].apply(transform_heating)"
   ]
  },
  {
   "cell_type": "code",
   "execution_count": 351,
   "metadata": {},
   "outputs": [
    {
     "data": {
      "text/plain": [
       "                  32458\n",
       "—                 25182\n",
       "no data            5295\n",
       "-- sqft lot        3813\n",
       "0.26 acres         3110\n",
       "                  ...  \n",
       "5,591 sqft            1\n",
       "5,716 sq. ft.         1\n",
       "432943                1\n",
       "12251                 1\n",
       "7,084 sqft lot        1\n",
       "Name: lot_size, Length: 36548, dtype: int64"
      ]
     },
     "execution_count": 351,
     "metadata": {},
     "output_type": "execute_result"
    }
   ],
   "source": [
    "df['lot_size'].str.lower().value_counts()"
   ]
  },
  {
   "cell_type": "code",
   "execution_count": 355,
   "metadata": {},
   "outputs": [],
   "source": [
    "def transform_lot_size(lot_size:str):\n",
    "    sqft_in_acre = 43560\n",
    "    \n",
    "    if lot_size is np.NaN or lot_size is None or lot_size.lower() in ['', 'no data', '—', '-- sqft lot']:\n",
    "        return np.NaN\n",
    "    \n",
    "    lot_size = lot_size.lower()\n",
    "    lot_size = lot_size.replace(',', '')\n",
    "    \n",
    "    match = re.search('[0-9]+\\.?[0-9]*', lot_size)\n",
    "    if match:\n",
    "        lot_size_number = float(match.group())\n",
    "        if 'acres' in lot_size:\n",
    "            lot_size_number *= sqft_in_acre\n",
    "        return lot_size_number\n",
    "    \n",
    "    return lot_size"
   ]
  },
  {
   "cell_type": "code",
   "execution_count": 359,
   "metadata": {},
   "outputs": [],
   "source": [
    "df['lot_size'] = df['lot_size'].apply(transform_lot_size).astype(float)"
   ]
  },
  {
   "cell_type": "code",
   "execution_count": null,
   "metadata": {},
   "outputs": [],
   "source": [
    "df['cooling'].value_counts().head(15)"
   ]
  },
  {
   "attachments": {},
   "cell_type": "markdown",
   "metadata": {},
   "source": [
    "##### Преобразуем столбец с данными о наличии камина"
   ]
  },
  {
   "cell_type": "code",
   "execution_count": null,
   "metadata": {},
   "outputs": [],
   "source": [
    "# посмотрим на уникальные значения в столбце\n",
    "df['fireplace'].value_counts()"
   ]
  },
  {
   "attachments": {},
   "cell_type": "markdown",
   "metadata": {},
   "source": [
    "Похоже, что в поле содержится разнородная информация. Где-то указано просто наличие камина, где-то количество, где-то описание. Попробуем вытащить информацию о наличии камина."
   ]
  },
  {
   "cell_type": "code",
   "execution_count": null,
   "metadata": {},
   "outputs": [],
   "source": [
    "def get_fireplace_number(fireplace: str):\n",
    "    if fireplace is np.NaN:\n",
    "        return 0\n",
    "    \n",
    "    fireplace_keywords = ['yes', 'fireplace', 'one', \n",
    "                          '1', 'two', '2', 'three', '3', 'gas', \n",
    "                          'electric logs', '4', '4+', '5', '6',\n",
    "                          '7', '8', '9', 'wood', 'frplc', 'electric']\n",
    "    fireplace = fireplace.lower()\n",
    "    if fireplace == 'not applicable' or fireplace == '0' or fireplace == 'no':\n",
    "        return 0\n",
    "    for keyword in fireplace_keywords:\n",
    "        if keyword in fireplace:\n",
    "            return 1\n",
    "\n",
    "    return 0"
   ]
  },
  {
   "attachments": {},
   "cell_type": "markdown",
   "metadata": {},
   "source": [
    "##### Преобразуем столбец с данными о городах"
   ]
  },
  {
   "cell_type": "code",
   "execution_count": null,
   "metadata": {},
   "outputs": [],
   "source": [
    "df['city'].str.lower().value_counts()"
   ]
  },
  {
   "cell_type": "code",
   "execution_count": null,
   "metadata": {},
   "outputs": [],
   "source": [
    "# колонка содержит очень много уникальных значений\n",
    "# посмотрим на процентное распределение городов\n",
    "(df['city'].str.lower().value_counts() / df.shape[0] * 100).head(10)"
   ]
  },
  {
   "cell_type": "code",
   "execution_count": null,
   "metadata": {},
   "outputs": [],
   "source": [
    "(df['city'].str.lower().value_counts() / df.shape[0] * 100).head(255).sum()"
   ]
  },
  {
   "attachments": {},
   "cell_type": "markdown",
   "metadata": {},
   "source": [
    "При дальнейшем кодировании, при использовании бинарного кодирования можно будет с помощью 8 новых столбцов описать 88 процентов данных."
   ]
  },
  {
   "attachments": {},
   "cell_type": "markdown",
   "metadata": {},
   "source": [
    "##### Преобразуем столбец с данными о школах"
   ]
  },
  {
   "cell_type": "code",
   "execution_count": null,
   "metadata": {},
   "outputs": [],
   "source": [
    "# посмотрим на значения в столбце\n",
    "df['schools']"
   ]
  },
  {
   "attachments": {},
   "cell_type": "markdown",
   "metadata": {},
   "source": [
    "Похоже, что поле содержит сложную структуру данных, представляющую собой массив со словарями. Попробуем извлечь данные из структуры."
   ]
  },
  {
   "cell_type": "code",
   "execution_count": null,
   "metadata": {},
   "outputs": [],
   "source": [
    "df['schools'] = df['schools'].apply(lambda schools: ast.literal_eval(schools))\n",
    "df['schools_rating'] = df['schools'].apply(lambda schools: schools[0]['rating'])\n",
    "df['schools_distance'] = df['schools'].apply(lambda schools: schools[0]['data']['Distance'])\n",
    "df['schools_grades'] = df['schools'].apply(lambda schools: schools[0]['data']['Grades'])\n",
    "df['schools_name'] = df['schools'].apply(lambda schools: schools[0]['name'])"
   ]
  },
  {
   "cell_type": "code",
   "execution_count": null,
   "metadata": {},
   "outputs": [],
   "source": [
    "df = df.drop('schools', axis=1)"
   ]
  },
  {
   "cell_type": "code",
   "execution_count": null,
   "metadata": {},
   "outputs": [],
   "source": [
    "df['schools_rating']"
   ]
  },
  {
   "cell_type": "code",
   "execution_count": null,
   "metadata": {},
   "outputs": [],
   "source": [
    "df['schools_distance']"
   ]
  },
  {
   "cell_type": "code",
   "execution_count": null,
   "metadata": {},
   "outputs": [],
   "source": [
    "df['schools_grades']"
   ]
  },
  {
   "cell_type": "code",
   "execution_count": null,
   "metadata": {},
   "outputs": [],
   "source": [
    "df['schools_name']"
   ]
  },
  {
   "attachments": {},
   "cell_type": "markdown",
   "metadata": {},
   "source": [
    "##### Преобразуем столбец с данными о количестве спальных мест"
   ]
  },
  {
   "cell_type": "code",
   "execution_count": null,
   "metadata": {},
   "outputs": [],
   "source": [
    "df['beds'].value_counts()"
   ]
  },
  {
   "cell_type": "code",
   "execution_count": null,
   "metadata": {},
   "outputs": [],
   "source": [
    "def transform_beds(beds):\n",
    "    if beds is np.NaN:\n",
    "        return beds\n",
    "    \n",
    "    beds = beds.lower()\n",
    "    \n",
    "    if 'acre' in beds or 'sqft' in beds or 'baths' in beds:\n",
    "        return np.NaN\n",
    "    \n",
    "    if ',' in beds:\n",
    "        beds_split = beds.split(',')\n",
    "        for part in beds_split:\n",
    "            if 'bedroom' in part:\n",
    "                match = re.search('[0-9]+', part)\n",
    "                if match:\n",
    "                    return match.group()\n",
    "                \n",
    "    match = re.search('[0-9]+', beds)\n",
    "    if match:\n",
    "        return match.group()\n",
    "    \n",
    "    return np.NaN"
   ]
  },
  {
   "cell_type": "code",
   "execution_count": null,
   "metadata": {},
   "outputs": [],
   "source": [
    "df['beds'] = df['beds'].apply(transform_beds)"
   ]
  },
  {
   "cell_type": "code",
   "execution_count": null,
   "metadata": {},
   "outputs": [],
   "source": [
    "df['beds'] = df['beds'].astype(float)"
   ]
  },
  {
   "attachments": {},
   "cell_type": "markdown",
   "metadata": {},
   "source": [
    "##### Преобразуем столбец с количеством этажей"
   ]
  },
  {
   "cell_type": "code",
   "execution_count": null,
   "metadata": {},
   "outputs": [],
   "source": [
    "def get_stories_number(stories: str):\n",
    "    if stories is np.NaN:\n",
    "        return stories\n",
    "    \n",
    "    if type(stories) is float:\n",
    "        return stories\n",
    "    \n",
    "    if stories.replace('.', '').isnumeric():\n",
    "        return float(stories)\n",
    "    \n",
    "    stories = stories.lower()\n",
    "    \n",
    "    if 'one' in stories or '1' in stories:\n",
    "        return 1.0\n",
    "    \n",
    "    if 'two' in stories or '2' in stories:\n",
    "        return 2.0\n",
    "    \n",
    "    if 'three' in stories or '3' in stories:\n",
    "        return 3.0\n",
    "    \n",
    "    if 'four' in stories or '4' in stories:\n",
    "        return 4.0\n",
    "    \n",
    "    if 'five' in stories or '5' in stories:\n",
    "        return 5.0\n",
    "    \n",
    "    if 'six' in stories or '6' in stories:\n",
    "        return 6.0\n",
    "    \n",
    "    # в случае если значение в строке не удается преобразовать возвращаем пустое значение,\n",
    "    # чтобы в дальнейшем его заменить\n",
    "    return np.NaN "
   ]
  },
  {
   "cell_type": "code",
   "execution_count": null,
   "metadata": {},
   "outputs": [],
   "source": [
    "df['stories'] = df['stories'].apply(get_stories_number)"
   ]
  },
  {
   "attachments": {},
   "cell_type": "markdown",
   "metadata": {},
   "source": [
    "##### Проверим поля с id члена MLS"
   ]
  },
  {
   "cell_type": "code",
   "execution_count": null,
   "metadata": {},
   "outputs": [],
   "source": [
    "df['mls-id'].str.lower().value_counts()"
   ]
  },
  {
   "cell_type": "code",
   "execution_count": null,
   "metadata": {},
   "outputs": [],
   "source": [
    "df['MlsId'].str.lower().value_counts()"
   ]
  },
  {
   "attachments": {},
   "cell_type": "markdown",
   "metadata": {},
   "source": [
    "Поле содержит слишком много уникальных значений. Удалим его."
   ]
  },
  {
   "cell_type": "code",
   "execution_count": null,
   "metadata": {},
   "outputs": [],
   "source": [
    "df = df.drop(['mls-id', 'MlsId'], axis=1)"
   ]
  }
 ],
 "metadata": {
  "kernelspec": {
   "display_name": "Python 3",
   "language": "python",
   "name": "python3"
  },
  "language_info": {
   "codemirror_mode": {
    "name": "ipython",
    "version": 3
   },
   "file_extension": ".py",
   "mimetype": "text/x-python",
   "name": "python",
   "nbconvert_exporter": "python",
   "pygments_lexer": "ipython3",
   "version": "3.11.1"
  },
  "orig_nbformat": 4,
  "vscode": {
   "interpreter": {
    "hash": "949777d72b0d2535278d3dc13498b2535136f6dfe0678499012e853ee9abcab1"
   }
  }
 },
 "nbformat": 4,
 "nbformat_minor": 2
}
