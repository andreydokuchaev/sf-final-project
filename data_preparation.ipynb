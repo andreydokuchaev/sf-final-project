{
 "cells": [
  {
   "cell_type": "code",
   "execution_count": null,
   "metadata": {},
   "outputs": [],
   "source": [
    "import pandas as pd\n",
    "import numpy as np\n",
    "import math\n",
    "import plotly.express as px\n",
    "import matplotlib.pyplot as plt\n",
    "import seaborn as sns\n",
    "import kaleido\n",
    "import re\n",
    "import ast\n",
    "import category_encoders as ce\n",
    "\n",
    "from IPython.display import Image\n",
    "\n",
    "from typing import List"
   ]
  },
  {
   "attachments": {},
   "cell_type": "markdown",
   "metadata": {},
   "source": [
    "Задача проекта: разработать сервис для предсказания стоимости домов на основе истории предложений.\n",
    "Так как нам необходимо предсказать числовое значение, то нам необходимо решить задачу регрессии."
   ]
  },
  {
   "attachments": {},
   "cell_type": "markdown",
   "metadata": {},
   "source": [
    "Для начала изучим исходные данные."
   ]
  },
  {
   "cell_type": "code",
   "execution_count": null,
   "metadata": {},
   "outputs": [],
   "source": [
    "df = pd.read_csv('data/data.csv')\n",
    "df.head()"
   ]
  },
  {
   "attachments": {},
   "cell_type": "markdown",
   "metadata": {},
   "source": [
    "В полученном датасете имеем следующие поля: \\\n",
    "\n",
    "status - текущий статус собственности \\\n",
    "private pool - наличие собственного бассейна \\\n",
    "property type - тип собственности \\\n",
    "street - улица и номер дома \\\n",
    "baths - количество ванных комнат \\\n",
    "homeFacts - дополнительная информация о собственности \\\n",
    "fireplace - информация о камине \\\n",
    "city - название города \\\n",
    "schools - информация о близлежащих школах \\\n",
    "sqft - площадь собственности \\\n",
    "zipcode - почтовый индекс \\\n",
    "beds - количество спальных мест \\\n",
    "state - штат \\\n",
    "stories - количество этажей \\\n",
    "mls-id - идентификационный номер члена MLS \\\n",
    "PrivatePool - наличие собственного бассейна \\\n",
    "MlsId - идентификационный номер члена MLS \\\n",
    "target - стоимость собственности"
   ]
  },
  {
   "cell_type": "code",
   "execution_count": null,
   "metadata": {},
   "outputs": [],
   "source": [
    "df.info()"
   ]
  },
  {
   "cell_type": "code",
   "execution_count": null,
   "metadata": {},
   "outputs": [],
   "source": [
    "# удалим полные дубликаты строк\n",
    "df = df.drop_duplicates()"
   ]
  },
  {
   "attachments": {},
   "cell_type": "markdown",
   "metadata": {},
   "source": [
    "В датасете достаточно много пропусков. Некоторые столбцы дублируют друг друга. \\\n",
    "Сначала проведем преобразование строк и выделим новые признаки."
   ]
  },
  {
   "attachments": {},
   "cell_type": "markdown",
   "metadata": {},
   "source": [
    "##### Преобразуем столбец с целевым показателем."
   ]
  },
  {
   "cell_type": "code",
   "execution_count": null,
   "metadata": {},
   "outputs": [],
   "source": [
    "# удаляем строки в которых целевой показатель отсутствует\n",
    "df = df.drop(df[df['target'].isna()].index)"
   ]
  },
  {
   "cell_type": "code",
   "execution_count": null,
   "metadata": {},
   "outputs": [],
   "source": [
    "# найдем все строки в которых целевой показатель не является числом\n",
    "df[~df['target'].str.isnumeric()]['target']"
   ]
  },
  {
   "cell_type": "code",
   "execution_count": null,
   "metadata": {},
   "outputs": [],
   "source": [
    "# уберем знак долара и запятую из целевого показателя для того, чтобы можно было его\n",
    "# преобразовать\n",
    "df['target'] = df['target'].apply(lambda target: target.replace('$', '')\\\n",
    "                                                       .replace(',', ''))"
   ]
  },
  {
   "cell_type": "code",
   "execution_count": null,
   "metadata": {},
   "outputs": [],
   "source": [
    "# еще раз проверим остались ли строки не являющиеся числом в столбце\n",
    "df[~df['target'].str.isnumeric()]['target']"
   ]
  },
  {
   "cell_type": "code",
   "execution_count": null,
   "metadata": {},
   "outputs": [],
   "source": [
    "# уберем знак плюса из строки с целевым показателем\n",
    "# так как непонятно, что именно он может означать в датасете\n",
    "df['target'] = df['target'].apply(lambda target: target.replace('+', ''))"
   ]
  },
  {
   "cell_type": "code",
   "execution_count": null,
   "metadata": {},
   "outputs": [],
   "source": [
    "# проверим строки в которых содержится подстрока \\mo\n",
    "df[df['target'].str.contains('/mo')]"
   ]
  },
  {
   "attachments": {},
   "cell_type": "markdown",
   "metadata": {},
   "source": [
    "Судя по всему в данном датасете также содержится информация о собственности домов сдающихся в аренду. Но так как нам необходимо построить модель которая будет предсказывать стоимость домов, а не аренду, удалим данные строки из датасета"
   ]
  },
  {
   "cell_type": "code",
   "execution_count": null,
   "metadata": {},
   "outputs": [],
   "source": [
    "df = df.drop(df[df['target'].str.contains('/mo')].index)"
   ]
  },
  {
   "cell_type": "code",
   "execution_count": null,
   "metadata": {},
   "outputs": [],
   "source": [
    "# еще раз сделаем проверку, что в датасете не осталось строк, которые не являются числом\n",
    "df[~df['target'].str.isnumeric()]['target']"
   ]
  },
  {
   "cell_type": "code",
   "execution_count": null,
   "metadata": {},
   "outputs": [],
   "source": [
    "# преобразуем столбец к числовому виду\n",
    "df['target'] = df['target'].astype(float)"
   ]
  },
  {
   "attachments": {},
   "cell_type": "markdown",
   "metadata": {},
   "source": [
    "##### Преобразуем столбец со статусом собственности."
   ]
  },
  {
   "cell_type": "code",
   "execution_count": null,
   "metadata": {},
   "outputs": [],
   "source": [
    "# посмотрим на значения в столбце\n",
    "df['status'].value_counts()"
   ]
  },
  {
   "attachments": {},
   "cell_type": "markdown",
   "metadata": {},
   "source": [
    "Похоже, что некоторые значения дублируются в разном регистре. Необходимо это учесть при преобразовании."
   ]
  },
  {
   "cell_type": "code",
   "execution_count": null,
   "metadata": {},
   "outputs": [],
   "source": [
    "# посмотрим на значения в столбце, игнорируя регистр\n",
    "df['status'].str.lower().value_counts().head(10)"
   ]
  },
  {
   "attachments": {},
   "cell_type": "markdown",
   "metadata": {},
   "source": [
    "Большая часть собственности имеет статус 'for sale' или 'active'. Оставим эти два статуса, а остальные сгруппируем в один."
   ]
  },
  {
   "cell_type": "code",
   "execution_count": null,
   "metadata": {},
   "outputs": [],
   "source": [
    "def group_status(status: str):\n",
    "    if (status is not np.NaN and status.lower() in ['for sale', 'active']):\n",
    "        return status.lower()\n",
    "    return 'other'"
   ]
  },
  {
   "cell_type": "code",
   "execution_count": null,
   "metadata": {},
   "outputs": [],
   "source": [
    "df['status'] = df['status'].apply(group_status)"
   ]
  },
  {
   "cell_type": "code",
   "execution_count": null,
   "metadata": {},
   "outputs": [],
   "source": [
    "# проверим итоговый результат преобразования столбца\n",
    "df['status'].value_counts()"
   ]
  },
  {
   "attachments": {},
   "cell_type": "markdown",
   "metadata": {},
   "source": [
    "##### Преобразуем столбец с информацией о наличии бассейна"
   ]
  },
  {
   "attachments": {},
   "cell_type": "markdown",
   "metadata": {},
   "source": [
    "Датасет содержит два столбца с информацией о наличии бассейна. Cоздадим новый столбец на основе двух существующих столбцов."
   ]
  },
  {
   "cell_type": "code",
   "execution_count": null,
   "metadata": {},
   "outputs": [],
   "source": [
    "# проверим содержимое полей\n",
    "print(df['private pool'].str.lower().value_counts())\n",
    "print(df['PrivatePool'].str.lower().value_counts())"
   ]
  },
  {
   "cell_type": "code",
   "execution_count": null,
   "metadata": {},
   "outputs": [],
   "source": [
    "# функция для определения наличия бассейна\n",
    "def fill_pool_data(df: pd.DataFrame):\n",
    "    if (df['PrivatePool'] is not np.NaN and df['PrivatePool'].lower() == 'yes'):\n",
    "        return 1\n",
    "    if (df['private pool'] is not np.NaN and df['private pool'].lower() == 'yes'):\n",
    "        return 1\n",
    "    return 0"
   ]
  },
  {
   "cell_type": "code",
   "execution_count": null,
   "metadata": {},
   "outputs": [],
   "source": [
    "df['private_pool'] = df.apply(fill_pool_data, axis=1)"
   ]
  },
  {
   "cell_type": "code",
   "execution_count": null,
   "metadata": {},
   "outputs": [],
   "source": [
    "# удаляем столбцы, которые больше не нужны\n",
    "df = df.drop(['PrivatePool', 'private pool'], axis=1)"
   ]
  },
  {
   "attachments": {},
   "cell_type": "markdown",
   "metadata": {},
   "source": [
    "##### Преобразуем столбец с типом собственности."
   ]
  },
  {
   "cell_type": "code",
   "execution_count": null,
   "metadata": {},
   "outputs": [],
   "source": [
    "# посмотрим на значения в столбце\n",
    "df['propertyType'].value_counts()"
   ]
  },
  {
   "cell_type": "code",
   "execution_count": null,
   "metadata": {},
   "outputs": [],
   "source": [
    "# посмотрим на 15 самых популярных значения\n",
    "df['propertyType'].value_counts().head(15)"
   ]
  },
  {
   "attachments": {},
   "cell_type": "markdown",
   "metadata": {},
   "source": [
    "Похоже часть значений дублируется с разным написанием. Сгруппируем значения самых популярных типов."
   ]
  },
  {
   "cell_type": "code",
   "execution_count": null,
   "metadata": {},
   "outputs": [],
   "source": [
    "def rename_property_type(type: str):\n",
    "    if type is np.NaN:\n",
    "        return np.NaN\n",
    "    \n",
    "    type = type.lower()\n",
    "    if ('single' in type and ('family' in type or 'detached' in type)):\n",
    "        return 'single-family home'\n",
    "    if ('multi' in type and 'family' in type):\n",
    "        return 'multi-family home'\n",
    "    if ('lot' in type or 'land' in type):\n",
    "        return 'land'\n",
    "    return type"
   ]
  },
  {
   "cell_type": "code",
   "execution_count": null,
   "metadata": {},
   "outputs": [],
   "source": [
    "df['propertyType'] = df['propertyType'].apply(rename_property_type)"
   ]
  },
  {
   "cell_type": "code",
   "execution_count": null,
   "metadata": {},
   "outputs": [],
   "source": [
    "# посмотрим на результат группировки\n",
    "df['propertyType'].value_counts().head(15)"
   ]
  },
  {
   "cell_type": "code",
   "execution_count": null,
   "metadata": {},
   "outputs": [],
   "source": [
    "# заменим пропуски на самое популярное значение\n",
    "property_type_fill_string = df['propertyType'].value_counts().head(1).index[0]\n",
    "df['propertyType'] = df['propertyType'].fillna(property_type_fill_string)"
   ]
  },
  {
   "cell_type": "code",
   "execution_count": null,
   "metadata": {},
   "outputs": [],
   "source": [
    "df['propertyType'].value_counts().head(10)"
   ]
  },
  {
   "attachments": {},
   "cell_type": "markdown",
   "metadata": {},
   "source": [
    "Оставим 5 самых популярных значения остальные сгруппируем в одно"
   ]
  },
  {
   "cell_type": "code",
   "execution_count": null,
   "metadata": {},
   "outputs": [],
   "source": [
    "def group_property_type(type: str):\n",
    "    if (type in ['single-family home', 'condo', 'land', 'townhouse', 'multi-family home']):\n",
    "        return type\n",
    "    return 'other'"
   ]
  },
  {
   "cell_type": "code",
   "execution_count": null,
   "metadata": {},
   "outputs": [],
   "source": [
    "df['propertyType'] = df['propertyType'].apply(group_property_type)"
   ]
  },
  {
   "cell_type": "code",
   "execution_count": null,
   "metadata": {},
   "outputs": [],
   "source": [
    "# посмотрим на результат\n",
    "df['propertyType'].value_counts()"
   ]
  },
  {
   "attachments": {},
   "cell_type": "markdown",
   "metadata": {},
   "source": [
    "##### Преобразуем столбец с улицей"
   ]
  },
  {
   "cell_type": "code",
   "execution_count": null,
   "metadata": {},
   "outputs": [],
   "source": [
    "# проверим количество уникальных улиц\n",
    "df['street'].value_counts().head(15)"
   ]
  },
  {
   "attachments": {},
   "cell_type": "markdown",
   "metadata": {},
   "source": [
    "В столбце слишком много уникальных значений. Скорее всего из-за того, что кроме улицы, значение также содержит номер дома. Уберем номер дома, а так же сгруппируем неисвезтные адреса в одно значение."
   ]
  },
  {
   "cell_type": "code",
   "execution_count": null,
   "metadata": {},
   "outputs": [],
   "source": [
    "def rename_street(street: str):\n",
    "    \n",
    "    if street is np.NaN:\n",
    "        return 'unknown'\n",
    "    \n",
    "    street = street.lower()\n",
    "    \n",
    "    if ('undisclosed' in street \\\n",
    "        or 'not disclosed' in street \\\n",
    "        or 'not available' in street \\\n",
    "        or 'unknown' in street):\n",
    "        \n",
    "        return 'unknown'\n",
    "    \n",
    "    splited_street = street.split()\n",
    "    \n",
    "    if splited_street[0].isnumeric():\n",
    "        return ' '.join(splited_street[1:])\n",
    "    \n",
    "    return street"
   ]
  },
  {
   "cell_type": "code",
   "execution_count": null,
   "metadata": {},
   "outputs": [],
   "source": [
    "# проверим сколько остается значений после применения функции\n",
    "df['street'].apply(rename_street).value_counts()"
   ]
  },
  {
   "attachments": {},
   "cell_type": "markdown",
   "metadata": {},
   "source": [
    "Уникальных значений в столбце даже после удаления номера дома все равно слишком много. Удалим столбец."
   ]
  },
  {
   "cell_type": "code",
   "execution_count": null,
   "metadata": {},
   "outputs": [],
   "source": [
    "df = df.drop('street', axis=1)"
   ]
  },
  {
   "attachments": {},
   "cell_type": "markdown",
   "metadata": {},
   "source": [
    "##### Преобразуем столбец с количеством ванных комнат"
   ]
  },
  {
   "cell_type": "code",
   "execution_count": null,
   "metadata": {},
   "outputs": [],
   "source": [
    "# проверим уникальные значения в столбце\n",
    "df['baths'].value_counts()"
   ]
  },
  {
   "attachments": {},
   "cell_type": "markdown",
   "metadata": {},
   "source": [
    "Преобразуем значения в числовой тип."
   ]
  },
  {
   "cell_type": "code",
   "execution_count": null,
   "metadata": {},
   "outputs": [],
   "source": [
    "def rename_bath(bath: str):\n",
    "    if bath is np.NaN or bath in ['', '~', 'Sq. Ft.']:\n",
    "        return np.NaN\n",
    "\n",
    "    bath = bath.replace(',', '')\n",
    "    \n",
    "    match = re.search('[0-9]+\\.?[0-9]*', bath)\n",
    "    if not match:\n",
    "        return np.NaN\n",
    "    \n",
    "    return match.group().strip()"
   ]
  },
  {
   "cell_type": "code",
   "execution_count": null,
   "metadata": {},
   "outputs": [],
   "source": [
    "df['baths'] = df['baths'].apply(rename_bath).astype(float)\n",
    "df['baths'] = df['baths'].round()"
   ]
  },
  {
   "attachments": {},
   "cell_type": "markdown",
   "metadata": {},
   "source": [
    "##### Преобразуем столбец с данными о площади"
   ]
  },
  {
   "cell_type": "code",
   "execution_count": null,
   "metadata": {},
   "outputs": [],
   "source": [
    "df['sqft'].value_counts()"
   ]
  },
  {
   "cell_type": "code",
   "execution_count": null,
   "metadata": {},
   "outputs": [],
   "source": [
    "def transform_sqft(sqft: str):\n",
    "    if sqft is np.NaN or '--' in sqft:\n",
    "        return np.NaN\n",
    "    \n",
    "    if type(sqft) is float:\n",
    "        return sqft\n",
    "    \n",
    "    sqft = sqft.replace(',', '')\n",
    "    match = re.search('[0-9]+\\.?[0-9]*', sqft)\n",
    "    if match:\n",
    "        sqft = match.group()\n",
    "    \n",
    "    return sqft\n",
    "    "
   ]
  },
  {
   "cell_type": "code",
   "execution_count": null,
   "metadata": {},
   "outputs": [],
   "source": [
    "df['sqft'] = df['sqft'].apply(transform_sqft).astype(float)"
   ]
  },
  {
   "attachments": {},
   "cell_type": "markdown",
   "metadata": {},
   "source": [
    "##### Проведем преобразование данных о доме."
   ]
  },
  {
   "cell_type": "code",
   "execution_count": null,
   "metadata": {},
   "outputs": [],
   "source": [
    "# посмотрим, что хранится в этом признаке\n",
    "df['homeFacts'].head()"
   ]
  },
  {
   "attachments": {},
   "cell_type": "markdown",
   "metadata": {},
   "source": [
    "Похоже, что в столбце хранится словарь с данными о доме. Посмотрим какие данные можно найти в данном словаре."
   ]
  },
  {
   "cell_type": "code",
   "execution_count": null,
   "metadata": {},
   "outputs": [],
   "source": [
    "keys = set()\n",
    "\n",
    "def get_keyset_from_dict(dict_string: str):\n",
    "    d = ast.literal_eval(dict_string)\n",
    "    keys.update(d.keys())\n",
    "    \n",
    "df['homeFacts'].apply(get_keyset_from_dict)\n",
    "\n",
    "print(keys)"
   ]
  },
  {
   "attachments": {},
   "cell_type": "markdown",
   "metadata": {},
   "source": [
    "Словарь содержит только один ключ, в котором хранится массив данных, которые тоже представляют собой словарь. Проверим какие типы данных встречаются у домов"
   ]
  },
  {
   "cell_type": "code",
   "execution_count": null,
   "metadata": {},
   "outputs": [],
   "source": [
    "labels = set()\n",
    "\n",
    "def get_labels_from_home_facts(dict_string: str):\n",
    "    d = ast.literal_eval(dict_string)\n",
    "    facts = d['atAGlanceFacts']\n",
    "    for fact in facts:\n",
    "        labels.add(fact['factLabel'])\n",
    "    \n",
    "df['homeFacts'].apply(get_labels_from_home_facts)\n",
    "\n",
    "print(labels)"
   ]
  },
  {
   "attachments": {},
   "cell_type": "markdown",
   "metadata": {},
   "source": [
    "Итак в словаре хранятся данные о годе последней реконструкции дома, паркинге, стоимости квадратного фута, обогреве, охлаждении, размере участка и годе постройки. Извлечем эти данные в отдельные столбцы."
   ]
  },
  {
   "cell_type": "code",
   "execution_count": null,
   "metadata": {},
   "outputs": [],
   "source": [
    "def transform_home_facts(dict_string: str):\n",
    "    new_home_facts = dict()\n",
    "    d = ast.literal_eval(dict_string)\n",
    "    facts = d['atAGlanceFacts']\n",
    "    for fact in facts:\n",
    "        new_home_facts[fact['factLabel']] = fact['factValue']\n",
    "    \n",
    "    return new_home_facts"
   ]
  },
  {
   "cell_type": "code",
   "execution_count": null,
   "metadata": {},
   "outputs": [],
   "source": [
    "# преобразуем структуры, чтобы было легчи извлекать значения\n",
    "df['transformed_home_facts'] = df['homeFacts'].apply(transform_home_facts)"
   ]
  },
  {
   "cell_type": "code",
   "execution_count": null,
   "metadata": {},
   "outputs": [],
   "source": [
    "# разобъем словарь на отдельные признаки\n",
    "df['remodeled_year'] = df['transformed_home_facts'].apply(lambda d: d['Remodeled year'])\n",
    "df['parking'] = df['transformed_home_facts'].apply(lambda d: d['Parking'])\n",
    "df['price_for_sqft'] = df['transformed_home_facts'].apply(lambda d: d['Price/sqft'])\n",
    "df['heating'] = df['transformed_home_facts'].apply(lambda d: d['Heating'])\n",
    "df['lot_size'] = df['transformed_home_facts'].apply(lambda d: d['lotsize'])\n",
    "df['cooling'] = df['transformed_home_facts'].apply(lambda d: d['Cooling'])\n",
    "df['year_built'] = df['transformed_home_facts'].apply(lambda d: d['Year built'])"
   ]
  },
  {
   "cell_type": "code",
   "execution_count": null,
   "metadata": {},
   "outputs": [],
   "source": [
    "# уберем ненужные теперь столбцы\n",
    "df = df.drop(['homeFacts', 'transformed_home_facts'], axis=1)"
   ]
  },
  {
   "attachments": {},
   "cell_type": "markdown",
   "metadata": {},
   "source": [
    "Преобразуем созданные признаки."
   ]
  },
  {
   "cell_type": "code",
   "execution_count": null,
   "metadata": {},
   "outputs": [],
   "source": [
    "df['year_built'].value_counts()"
   ]
  },
  {
   "cell_type": "code",
   "execution_count": null,
   "metadata": {},
   "outputs": [],
   "source": [
    "df['year_built'] = df['year_built'].apply(lambda year: np.NaN if year is None or year == '' or year == 'No Data' else year).astype(float)"
   ]
  },
  {
   "cell_type": "code",
   "execution_count": null,
   "metadata": {},
   "outputs": [],
   "source": [
    "df['remodeled_year'].value_counts()"
   ]
  },
  {
   "cell_type": "code",
   "execution_count": null,
   "metadata": {},
   "outputs": [],
   "source": [
    "df['remodeled_year'] = df['remodeled_year'].apply(lambda year: 0 if year is None or year == '' else year).astype(int)"
   ]
  },
  {
   "cell_type": "code",
   "execution_count": null,
   "metadata": {},
   "outputs": [],
   "source": [
    "df['parking'].value_counts().head(15)"
   ]
  },
  {
   "cell_type": "code",
   "execution_count": null,
   "metadata": {},
   "outputs": [],
   "source": [
    "def transform_parking(parking):\n",
    "    if parking is np.NaN or parking is None or parking == '':\n",
    "        return np.NaN\n",
    "    \n",
    "    if parking.lower() in ['no data', 'none']:\n",
    "        return '0'\n",
    "    \n",
    "    if 'Garage' in parking or 'Carport' in parking:\n",
    "        return '1'\n",
    "    \n",
    "    match = re.search('[0-9]+', parking)\n",
    "    if match:\n",
    "        return match.group()\n",
    "    \n",
    "    return '1'"
   ]
  },
  {
   "cell_type": "code",
   "execution_count": null,
   "metadata": {},
   "outputs": [],
   "source": [
    "df['parking'] = df['parking'].apply(transform_parking).astype(float)"
   ]
  },
  {
   "cell_type": "code",
   "execution_count": null,
   "metadata": {},
   "outputs": [],
   "source": [
    "df['price_for_sqft']"
   ]
  },
  {
   "cell_type": "code",
   "execution_count": null,
   "metadata": {},
   "outputs": [],
   "source": [
    "def transform_price_for_sqft(price):\n",
    "    if price is np.NaN or price is None or price == 'No Info' or price == 'No Data' or price == '' or price == 'Contact manager':\n",
    "        return 0\n",
    "    \n",
    "    price = price.replace('$', '')\n",
    "    price = price.replace('/sqft', '')\n",
    "    price = price.replace(' / Sq. Ft.', '')\n",
    "    price = price.replace(',', '')\n",
    "    \n",
    "    \n",
    "    return price"
   ]
  },
  {
   "cell_type": "code",
   "execution_count": null,
   "metadata": {},
   "outputs": [],
   "source": [
    "df['price_for_sqft'] = df['price_for_sqft'].apply(transform_price_for_sqft).astype(float)"
   ]
  },
  {
   "cell_type": "code",
   "execution_count": null,
   "metadata": {},
   "outputs": [],
   "source": [
    "# проверим нет ли в данном столбце утечки данных\n",
    "df['price_for_sqft'] * df['sqft'].apply(lambda x: 0 if x is np.NaN else x) / df['target'] * 100 - 100"
   ]
  },
  {
   "attachments": {},
   "cell_type": "markdown",
   "metadata": {},
   "source": [
    "Судя по ввсему данный столбец может быть использован для вывода целевого значения. Необходимо его удалить."
   ]
  },
  {
   "cell_type": "code",
   "execution_count": null,
   "metadata": {},
   "outputs": [],
   "source": [
    "df = df.drop('price_for_sqft', axis=1)"
   ]
  },
  {
   "cell_type": "code",
   "execution_count": null,
   "metadata": {},
   "outputs": [],
   "source": [
    "df['heating'].str.lower().value_counts().head(15)"
   ]
  },
  {
   "cell_type": "code",
   "execution_count": null,
   "metadata": {},
   "outputs": [],
   "source": [
    "def transform_heating(heating: str):\n",
    "    if heating is np.NaN or heating is None or heating.lower() in ['', 'no data']:\n",
    "        return np.NaN\n",
    "    \n",
    "    heating = heating.lower()\n",
    "    if 'forced' in heating:\n",
    "        return 'forced'\n",
    "    \n",
    "    if 'central' in heating:\n",
    "        return 'central'\n",
    "    \n",
    "    return 'other'\n",
    "    "
   ]
  },
  {
   "cell_type": "code",
   "execution_count": null,
   "metadata": {},
   "outputs": [],
   "source": [
    "df['heating'] = df['heating'].apply(transform_heating)"
   ]
  },
  {
   "cell_type": "code",
   "execution_count": null,
   "metadata": {},
   "outputs": [],
   "source": [
    "df['lot_size'].str.lower().value_counts()"
   ]
  },
  {
   "cell_type": "code",
   "execution_count": null,
   "metadata": {},
   "outputs": [],
   "source": [
    "def transform_lot_size(lot_size:str):\n",
    "    sqft_in_acre = 43560\n",
    "    \n",
    "    if lot_size is np.NaN or lot_size is None or lot_size.lower() in ['', 'no data', '—', '-- sqft lot']:\n",
    "        return np.NaN\n",
    "    \n",
    "    lot_size = lot_size.lower()\n",
    "    lot_size = lot_size.replace(',', '')\n",
    "    \n",
    "    match = re.search('[0-9]+\\.?[0-9]*', lot_size)\n",
    "    if match:\n",
    "        lot_size_number = float(match.group())\n",
    "        if 'acres' in lot_size:\n",
    "            lot_size_number *= sqft_in_acre\n",
    "        return lot_size_number\n",
    "    \n",
    "    return lot_size"
   ]
  },
  {
   "cell_type": "code",
   "execution_count": null,
   "metadata": {},
   "outputs": [],
   "source": [
    "df['lot_size'] = df['lot_size'].apply(transform_lot_size).astype(float)"
   ]
  },
  {
   "cell_type": "code",
   "execution_count": null,
   "metadata": {},
   "outputs": [],
   "source": [
    "df['cooling'].str.lower().value_counts().head(15)"
   ]
  },
  {
   "cell_type": "code",
   "execution_count": null,
   "metadata": {},
   "outputs": [],
   "source": [
    "def transform_cooling(cooling):\n",
    "    if cooling is np.NaN or cooling is None or cooling.lower() in ['no data', 'none', '']:\n",
    "        return np.NaN\n",
    "    \n",
    "    cooling = cooling.lower()\n",
    "    \n",
    "    if 'central' in cooling:\n",
    "        return 'central'\n",
    "    \n",
    "    return 'other'"
   ]
  },
  {
   "cell_type": "code",
   "execution_count": null,
   "metadata": {},
   "outputs": [],
   "source": [
    "df['cooling'] = df['cooling'].apply(transform_cooling)"
   ]
  },
  {
   "attachments": {},
   "cell_type": "markdown",
   "metadata": {},
   "source": [
    "##### Преобразуем столбец с данными о наличии камина"
   ]
  },
  {
   "cell_type": "code",
   "execution_count": null,
   "metadata": {},
   "outputs": [],
   "source": [
    "# посмотрим на уникальные значения в столбце\n",
    "df['fireplace'].value_counts()"
   ]
  },
  {
   "attachments": {},
   "cell_type": "markdown",
   "metadata": {},
   "source": [
    "Похоже, что в поле содержится разнородная информация. Где-то указано просто наличие камина, где-то количество, где-то описание. Попробуем вытащить информацию о наличии камина."
   ]
  },
  {
   "cell_type": "code",
   "execution_count": null,
   "metadata": {},
   "outputs": [],
   "source": [
    "def get_fireplace_number(fireplace: str):\n",
    "    if fireplace is np.NaN:\n",
    "        return np.NaN\n",
    "    \n",
    "    fireplace_keywords = ['yes', 'fireplace', 'one', \n",
    "                          '1', 'two', '2', 'three', '3', 'gas', \n",
    "                          'electric logs', '4', '4+', '5', '6',\n",
    "                          '7', '8', '9', 'wood', 'frplc', 'electric', \n",
    "                          'living room', 'familyrm', 'great room', 'family room']\n",
    "    fireplace = fireplace.lower()\n",
    "    if fireplace == 'not applicable' or fireplace == '0' or fireplace == 'no':\n",
    "        return 'no'\n",
    "    for keyword in fireplace_keywords:\n",
    "        if keyword in fireplace:\n",
    "            return 'yes'\n",
    "\n",
    "    return np.NaN"
   ]
  },
  {
   "cell_type": "code",
   "execution_count": null,
   "metadata": {},
   "outputs": [],
   "source": [
    "df['fireplace'] = df['fireplace'].apply(get_fireplace_number)"
   ]
  },
  {
   "attachments": {},
   "cell_type": "markdown",
   "metadata": {},
   "source": [
    "##### Преобразуем столбец с данными о городах"
   ]
  },
  {
   "cell_type": "code",
   "execution_count": null,
   "metadata": {},
   "outputs": [],
   "source": [
    "df['city'].str.lower().value_counts()"
   ]
  },
  {
   "cell_type": "code",
   "execution_count": null,
   "metadata": {},
   "outputs": [],
   "source": [
    "# колонка содержит очень много уникальных значений\n",
    "# посмотрим на процентное распределение городов\n",
    "(df['city'].str.lower().value_counts() / df.shape[0] * 100).head(10)"
   ]
  },
  {
   "cell_type": "code",
   "execution_count": null,
   "metadata": {},
   "outputs": [],
   "source": [
    "(df['city'].str.lower().value_counts() / df.shape[0] * 100).head(255).sum()"
   ]
  },
  {
   "attachments": {},
   "cell_type": "markdown",
   "metadata": {},
   "source": [
    "При дальнейшем кодировании, при использовании бинарного кодирования можно будет с помощью 8 новых столбцов описать 88 процентов данных."
   ]
  },
  {
   "cell_type": "code",
   "execution_count": null,
   "metadata": {},
   "outputs": [],
   "source": [
    "cities = df['city'].str.lower().value_counts().head(254).index\n",
    "def transofrm_city(city):\n",
    "    if city is np.NaN:\n",
    "        return np.NaN\n",
    "    \n",
    "    city = city.lower()\n",
    "    if city in cities:\n",
    "        return city\n",
    "    \n",
    "    return 'other'"
   ]
  },
  {
   "cell_type": "code",
   "execution_count": null,
   "metadata": {},
   "outputs": [],
   "source": [
    "df['city'] = df['city'].apply(transofrm_city)"
   ]
  },
  {
   "attachments": {},
   "cell_type": "markdown",
   "metadata": {},
   "source": [
    "##### Преобразуем столбец с данными о школах"
   ]
  },
  {
   "cell_type": "code",
   "execution_count": null,
   "metadata": {},
   "outputs": [],
   "source": [
    "# посмотрим на значения в столбце\n",
    "df['schools']"
   ]
  },
  {
   "attachments": {},
   "cell_type": "markdown",
   "metadata": {},
   "source": [
    "Похоже, что поле содержит сложную структуру данных, представляющую собой массив со словарями. Попробуем извлечь данные из структуры."
   ]
  },
  {
   "cell_type": "code",
   "execution_count": null,
   "metadata": {},
   "outputs": [],
   "source": [
    "df['schools'] = df['schools'].apply(lambda schools: ast.literal_eval(schools))\n",
    "df['schools_rating'] = df['schools'].apply(lambda schools: schools[0]['rating'])\n",
    "df['schools_distance'] = df['schools'].apply(lambda schools: schools[0]['data']['Distance'])\n",
    "df['schools_grades'] = df['schools'].apply(lambda schools: schools[0]['data']['Grades'])\n",
    "df['schools_name'] = df['schools'].apply(lambda schools: schools[0]['name'])"
   ]
  },
  {
   "cell_type": "code",
   "execution_count": null,
   "metadata": {},
   "outputs": [],
   "source": [
    "df = df.drop('schools', axis=1)"
   ]
  },
  {
   "cell_type": "code",
   "execution_count": null,
   "metadata": {},
   "outputs": [],
   "source": [
    "df['schools_rating']"
   ]
  },
  {
   "attachments": {},
   "cell_type": "markdown",
   "metadata": {},
   "source": [
    "Подсчитаем средний рейтинг школ у которых рейтинг заполнен."
   ]
  },
  {
   "cell_type": "code",
   "execution_count": null,
   "metadata": {},
   "outputs": [],
   "source": [
    "def transform_schools_rating(ratings:List[str]):\n",
    "    transformed_rating = []\n",
    "    for rating in ratings:\n",
    "        if '/' in rating:\n",
    "            rating = rating.split('/')[0]\n",
    "            \n",
    "        if rating.lower() not in ['nr', 'none', 'na', '']:\n",
    "            transformed_rating.append(int(rating))\n",
    "            \n",
    "    return transformed_rating\n",
    "        "
   ]
  },
  {
   "cell_type": "code",
   "execution_count": null,
   "metadata": {},
   "outputs": [],
   "source": [
    "df['schools_rating'] = df['schools_rating'].apply(transform_schools_rating)"
   ]
  },
  {
   "cell_type": "code",
   "execution_count": null,
   "metadata": {},
   "outputs": [],
   "source": [
    "def calculate_average_schools_rating(ratings: List[int]):\n",
    "    if ratings == []:\n",
    "        return np.NaN\n",
    "    return sum(ratings) / len(ratings)"
   ]
  },
  {
   "cell_type": "code",
   "execution_count": null,
   "metadata": {},
   "outputs": [],
   "source": [
    "df['schools_rating'] = df['schools_rating'].apply(calculate_average_schools_rating)"
   ]
  },
  {
   "cell_type": "code",
   "execution_count": null,
   "metadata": {},
   "outputs": [],
   "source": [
    "df['schools_distance']"
   ]
  },
  {
   "attachments": {},
   "cell_type": "markdown",
   "metadata": {},
   "source": [
    "Посчитаем среднее расстояние до школ."
   ]
  },
  {
   "cell_type": "code",
   "execution_count": null,
   "metadata": {},
   "outputs": [],
   "source": [
    "def transform_schools_distance(distances:List[str]):\n",
    "    transformed_distances = []\n",
    "    for distance in distances:\n",
    "        distance = distance.replace('mi', '').strip()\n",
    "        distance = float(distance)\n",
    "        transformed_distances.append(distance)\n",
    "        \n",
    "    return transformed_distances"
   ]
  },
  {
   "cell_type": "code",
   "execution_count": null,
   "metadata": {},
   "outputs": [],
   "source": [
    "df['schools_distance'] = df['schools_distance'].apply(transform_schools_distance)"
   ]
  },
  {
   "cell_type": "code",
   "execution_count": null,
   "metadata": {},
   "outputs": [],
   "source": [
    "def average_distance(distances:List[float]):\n",
    "    if distances == []:\n",
    "        return np.NaN\n",
    "    \n",
    "    return sum(distances) / len(distances)"
   ]
  },
  {
   "cell_type": "code",
   "execution_count": null,
   "metadata": {},
   "outputs": [],
   "source": [
    "df['schools_distance'] = df['schools_distance'].apply(average_distance)"
   ]
  },
  {
   "cell_type": "code",
   "execution_count": null,
   "metadata": {},
   "outputs": [],
   "source": [
    "# удалим столбец с названиями школ и классами\n",
    "df = df.drop(['schools_name', 'schools_grades'], axis=1)"
   ]
  },
  {
   "attachments": {},
   "cell_type": "markdown",
   "metadata": {},
   "source": [
    "##### Преобразуем столбец с данными о количестве спальных мест"
   ]
  },
  {
   "cell_type": "code",
   "execution_count": null,
   "metadata": {},
   "outputs": [],
   "source": [
    "df['beds'].value_counts()"
   ]
  },
  {
   "cell_type": "code",
   "execution_count": null,
   "metadata": {},
   "outputs": [],
   "source": [
    "def transform_beds(beds):\n",
    "    if beds is np.NaN:\n",
    "        return np.NaN\n",
    "    \n",
    "    beds = beds.lower()\n",
    "    \n",
    "    if 'acre' in beds or 'sqft' in beds or 'bath' in beds or '--' in beds or ' ' in beds:\n",
    "        return np.NaN\n",
    "    \n",
    "    if ',' in beds:\n",
    "        beds_split = beds.split(',')\n",
    "        for part in beds_split:\n",
    "            if 'bedroom' in part:\n",
    "                match = re.search('[0-9]+', part)\n",
    "                if match:\n",
    "                    return match.group()\n",
    "                \n",
    "    match = re.search('[0-9]+', beds)\n",
    "    if match:\n",
    "        return match.group()\n",
    "    \n",
    "    return beds"
   ]
  },
  {
   "cell_type": "code",
   "execution_count": null,
   "metadata": {},
   "outputs": [],
   "source": [
    "df['beds'] = df['beds'].apply(transform_beds).astype(float)"
   ]
  },
  {
   "attachments": {},
   "cell_type": "markdown",
   "metadata": {},
   "source": [
    "##### Преобразуем столбец с количеством этажей"
   ]
  },
  {
   "cell_type": "code",
   "execution_count": null,
   "metadata": {},
   "outputs": [],
   "source": [
    "def get_stories_number(stories: str):\n",
    "    if stories is np.NaN:\n",
    "        return stories\n",
    "    \n",
    "    if type(stories) is float:\n",
    "        return stories\n",
    "    \n",
    "    if stories.replace('.', '').isnumeric():\n",
    "        return float(stories)\n",
    "    \n",
    "    stories = stories.lower()\n",
    "    \n",
    "    if 'one' in stories or '1' in stories:\n",
    "        return 1.0\n",
    "    \n",
    "    if 'two' in stories or '2' in stories:\n",
    "        return 2.0\n",
    "    \n",
    "    if 'three' in stories or '3' in stories:\n",
    "        return 3.0\n",
    "    \n",
    "    if 'four' in stories or '4' in stories:\n",
    "        return 4.0\n",
    "    \n",
    "    if 'five' in stories or '5' in stories:\n",
    "        return 5.0\n",
    "    \n",
    "    if 'six' in stories or '6' in stories:\n",
    "        return 6.0\n",
    "    \n",
    "    # в случае если значение в строке не удается преобразовать возвращаем пустое значение,\n",
    "    # чтобы в дальнейшем его заменить\n",
    "    return np.NaN "
   ]
  },
  {
   "cell_type": "code",
   "execution_count": null,
   "metadata": {},
   "outputs": [],
   "source": [
    "df['stories'] = df['stories'].apply(get_stories_number)"
   ]
  },
  {
   "attachments": {},
   "cell_type": "markdown",
   "metadata": {},
   "source": [
    "##### Проверим поля с id члена MLS"
   ]
  },
  {
   "cell_type": "code",
   "execution_count": null,
   "metadata": {},
   "outputs": [],
   "source": [
    "df['mls-id'].str.lower().value_counts()"
   ]
  },
  {
   "cell_type": "code",
   "execution_count": null,
   "metadata": {},
   "outputs": [],
   "source": [
    "df['MlsId'].str.lower().value_counts()"
   ]
  },
  {
   "attachments": {},
   "cell_type": "markdown",
   "metadata": {},
   "source": [
    "Поле содержит слишком много уникальных значений. Удалим его."
   ]
  },
  {
   "cell_type": "code",
   "execution_count": null,
   "metadata": {},
   "outputs": [],
   "source": [
    "df = df.drop(['mls-id', 'MlsId'], axis=1)"
   ]
  },
  {
   "cell_type": "code",
   "execution_count": null,
   "metadata": {},
   "outputs": [],
   "source": [
    "df['zipcode'].str.lower().value_counts()"
   ]
  },
  {
   "attachments": {},
   "cell_type": "markdown",
   "metadata": {},
   "source": [
    "Поле содержит слишком много уникальных значений. Удалим его."
   ]
  },
  {
   "cell_type": "code",
   "execution_count": null,
   "metadata": {},
   "outputs": [],
   "source": [
    "df = df.drop('zipcode', axis=1)"
   ]
  },
  {
   "attachments": {},
   "cell_type": "markdown",
   "metadata": {},
   "source": [
    "### Разберемся с пропусками в данных."
   ]
  },
  {
   "cell_type": "code",
   "execution_count": null,
   "metadata": {},
   "outputs": [],
   "source": [
    "df.info()"
   ]
  },
  {
   "cell_type": "code",
   "execution_count": null,
   "metadata": {},
   "outputs": [],
   "source": [
    "# заполним пропуски в атрибуте с количеством ванн медианными значениями для каждого типа собственности\n",
    "baths_by_property_type = df.groupby('propertyType')['baths'].median()\n",
    "def fill_baths(row: pd.Series):\n",
    "    if np.isnan(row['baths']):\n",
    "        return baths_by_property_type[row['propertyType']]\n",
    "    \n",
    "    return row['baths']"
   ]
  },
  {
   "cell_type": "code",
   "execution_count": null,
   "metadata": {},
   "outputs": [],
   "source": [
    "df['baths'] = df.apply(fill_baths, axis=1)"
   ]
  },
  {
   "cell_type": "code",
   "execution_count": null,
   "metadata": {},
   "outputs": [],
   "source": [
    "# атрибут с информацией о наличии камина содержит слишком много пропусков. Его необходимо удалить.\n",
    "df = df.drop('fireplace', axis=1)"
   ]
  },
  {
   "cell_type": "code",
   "execution_count": null,
   "metadata": {},
   "outputs": [],
   "source": [
    "most_frequent_city = df[df['city'] != 'other']['city'].value_counts().index[0]\n",
    "df['city'] = df['city'].fillna(most_frequent_city)"
   ]
  },
  {
   "cell_type": "code",
   "execution_count": null,
   "metadata": {},
   "outputs": [],
   "source": [
    "# заполним пропуски в атрибуте с площадью собственности медианными значениями для каждого типа собственности\n",
    "sqft_by_property_type = df.groupby('propertyType')['sqft'].median()\n",
    "def fill_sqft(row: pd.Series):\n",
    "    if np.isnan(row['sqft']):\n",
    "        return sqft_by_property_type[row['propertyType']]\n",
    "    \n",
    "    return row['sqft']"
   ]
  },
  {
   "cell_type": "code",
   "execution_count": null,
   "metadata": {},
   "outputs": [],
   "source": [
    "df['sqft'] = df.apply(fill_sqft, axis=1)"
   ]
  },
  {
   "cell_type": "code",
   "execution_count": null,
   "metadata": {},
   "outputs": [],
   "source": [
    "# заполним пропуски в атрибуте с количеством спальных мест медианными значениями для каждого типа собственности\n",
    "beds_by_property_type = df.groupby('propertyType')['beds'].median()\n",
    "def fill_beds(row: pd.Series):\n",
    "    if np.isnan(row['beds']):\n",
    "        return beds_by_property_type[row['propertyType']]\n",
    "    \n",
    "    return row['beds']"
   ]
  },
  {
   "cell_type": "code",
   "execution_count": null,
   "metadata": {},
   "outputs": [],
   "source": [
    "df['beds'] = df.apply(fill_beds, axis=1)"
   ]
  },
  {
   "cell_type": "code",
   "execution_count": null,
   "metadata": {},
   "outputs": [],
   "source": [
    "# заполним пропуски в атрибуте с количеством этажей медианными значениями для каждого типа собственности\n",
    "stories_by_property_type = df.groupby('propertyType')['stories'].median()\n",
    "def fill_stories(row: pd.Series):\n",
    "    if np.isnan(row['stories']):\n",
    "        return stories_by_property_type[row['propertyType']]\n",
    "    \n",
    "    return row['stories']"
   ]
  },
  {
   "cell_type": "code",
   "execution_count": null,
   "metadata": {},
   "outputs": [],
   "source": [
    "df['stories'] = df.apply(fill_stories, axis=1)"
   ]
  },
  {
   "cell_type": "code",
   "execution_count": null,
   "metadata": {},
   "outputs": [],
   "source": [
    "# заполним пропуски в атрибуте с количество парковочных мест медианными значениями для каждого типа собственности в основных городах\n",
    "parking_by_property_type = df.groupby(['propertyType'])['parking'].median()\n",
    "def fill_parking(row: pd.Series):\n",
    "    if np.isnan(row['parking']):\n",
    "        return parking_by_property_type[row['propertyType']]\n",
    "    \n",
    "    return row['parking']"
   ]
  },
  {
   "cell_type": "code",
   "execution_count": null,
   "metadata": {},
   "outputs": [],
   "source": [
    "df['parking'] = df.apply(fill_parking, axis=1)"
   ]
  },
  {
   "cell_type": "code",
   "execution_count": null,
   "metadata": {},
   "outputs": [],
   "source": [
    "# заполним пропуски в атрибуте с типом обогрева значениями моды для каждого типа собственности\n",
    "heating_by_property_type = df.groupby('propertyType')['heating'].agg(pd.Series.mode)\n",
    "def fill_heating(row: pd.Series):\n",
    "    if row['heating'] is np.NaN:\n",
    "        return heating_by_property_type[row['propertyType']]\n",
    "    \n",
    "    return row['heating']"
   ]
  },
  {
   "cell_type": "code",
   "execution_count": null,
   "metadata": {},
   "outputs": [],
   "source": [
    "df['heating'] = df.apply(fill_heating, axis=1)"
   ]
  },
  {
   "cell_type": "code",
   "execution_count": null,
   "metadata": {},
   "outputs": [],
   "source": [
    "# заполним пропуски в атрибуте с размером участка медианными значениями для каждого типа собственности\n",
    "lot_size_by_property_type = df.groupby(['propertyType'])['lot_size'].median()\n",
    "def fill_lot_size(row: pd.Series):\n",
    "    if np.isnan(row['lot_size']):\n",
    "        return lot_size_by_property_type[row['propertyType']]\n",
    "    \n",
    "    return row['lot_size']"
   ]
  },
  {
   "cell_type": "code",
   "execution_count": null,
   "metadata": {},
   "outputs": [],
   "source": [
    "df['lot_size'] = df.apply(fill_lot_size, axis=1)"
   ]
  },
  {
   "cell_type": "code",
   "execution_count": null,
   "metadata": {},
   "outputs": [],
   "source": [
    "# заполним пропуски в атрибуте с типом охлаждения значениями моды для каждого типа собственности\n",
    "cooling_by_property_type = df.groupby('propertyType')['cooling'].agg(pd.Series.mode)\n",
    "def fill_cooling(row: pd.Series):\n",
    "    if row['cooling'] is np.NaN:\n",
    "        return cooling_by_property_type[row['propertyType']]\n",
    "    \n",
    "    return row['cooling']"
   ]
  },
  {
   "cell_type": "code",
   "execution_count": null,
   "metadata": {},
   "outputs": [],
   "source": [
    "df['cooling'] = df.apply(fill_cooling, axis=1)"
   ]
  },
  {
   "cell_type": "code",
   "execution_count": null,
   "metadata": {},
   "outputs": [],
   "source": [
    "# заполним пропуски в атрибуте с годом постройки медианными значениями в основных городах\n",
    "year_built_by_city = df.groupby(['city'])['year_built'].median()\n",
    "def fill_year_built(row: pd.Series):\n",
    "    if np.isnan(row['year_built']):\n",
    "        return year_built_by_city[row['city']]\n",
    "    \n",
    "    return row['year_built']"
   ]
  },
  {
   "cell_type": "code",
   "execution_count": null,
   "metadata": {},
   "outputs": [],
   "source": [
    "df['year_built'] = df.apply(fill_year_built, axis=1)"
   ]
  },
  {
   "cell_type": "code",
   "execution_count": null,
   "metadata": {},
   "outputs": [],
   "source": [
    "# заполним пропуски в атрибуте рейтингом школ медианными значениями в основных городах\n",
    "schools_rating_by_city = df.groupby(['city'])['schools_rating'].median()\n",
    "def fill_schools_rating(row: pd.Series):\n",
    "    if np.isnan(row['schools_rating']):\n",
    "        return schools_rating_by_city[row['city']]\n",
    "    \n",
    "    return row['schools_rating']"
   ]
  },
  {
   "cell_type": "code",
   "execution_count": null,
   "metadata": {},
   "outputs": [],
   "source": [
    "df['schools_rating'] = df.apply(fill_schools_rating, axis=1)"
   ]
  },
  {
   "cell_type": "code",
   "execution_count": null,
   "metadata": {},
   "outputs": [],
   "source": [
    "# заполним пропуски в атрибуте с расстоянием до школ медианными значениями в основных городах\n",
    "schools_distance_by_city = df.groupby(['city'])['schools_distance'].median()\n",
    "def fill_schools_distance(row: pd.Series):\n",
    "    if np.isnan(row['schools_distance']):\n",
    "        return schools_distance_by_city[row['city']]\n",
    "    \n",
    "    return row['schools_distance']"
   ]
  },
  {
   "cell_type": "code",
   "execution_count": null,
   "metadata": {},
   "outputs": [],
   "source": [
    "df['schools_distance'] = df.apply(fill_schools_distance, axis=1)"
   ]
  },
  {
   "attachments": {},
   "cell_type": "markdown",
   "metadata": {},
   "source": [
    "### Разберемся с выбросами в данных."
   ]
  },
  {
   "cell_type": "code",
   "execution_count": null,
   "metadata": {},
   "outputs": [],
   "source": [
    "fig = px.histogram(df, x='baths')\n",
    "fig.write_image('images/baths_histogram.png')\n",
    "Image(filename='images/baths_histogram.png') "
   ]
  },
  {
   "attachments": {},
   "cell_type": "markdown",
   "metadata": {},
   "source": [
    "Большая часть значений сконцентрировано возле 0. На графике видно длинный хвост справа из отдельных точек. Уберем выбросы при помощи методы Тьюки."
   ]
  },
  {
   "cell_type": "code",
   "execution_count": null,
   "metadata": {},
   "outputs": [],
   "source": [
    "def outliers_iqr(data, feature, left=1.5, right=1.5):\n",
    "    x = data[feature]\n",
    "    quartile_1, quartile_3 = x.quantile(0.25), x.quantile(0.75),\n",
    "    iqr = quartile_3 - quartile_1\n",
    "    \n",
    "    lower_bound = quartile_1 - (iqr * left)\n",
    "    upper_bound = quartile_3 + (iqr * right)\n",
    "    \n",
    "    outliers_filter = ''\n",
    "    cleaned_filter = ''\n",
    "    \n",
    "    if left > 0:\n",
    "        outliers_filter += '(x < lower_bound)'\n",
    "        cleaned_filter += '(x >= lower_bound)'\n",
    "    \n",
    "    if right > 0:\n",
    "        \n",
    "        if outliers_filter != '':\n",
    "            outliers_filter += ' | '\n",
    "        outliers_filter += '(x > upper_bound)'\n",
    "        \n",
    "        if cleaned_filter != '':\n",
    "            cleaned_filter += ' & '\n",
    "        cleaned_filter += '(x <= upper_bound)'\n",
    "        \n",
    "    outliers = data[eval(outliers_filter)]\n",
    "    cleaned = data[eval(cleaned_filter)]\n",
    "    \n",
    "    return outliers, cleaned"
   ]
  },
  {
   "cell_type": "code",
   "execution_count": null,
   "metadata": {},
   "outputs": [],
   "source": [
    "_, df_cleaned = outliers_iqr(df, 'baths', left=0, right=5)\n",
    "fig = px.histogram(df_cleaned, x='baths')\n",
    "fig.write_image('images/baths_cleaned_histogram.png')\n",
    "Image(filename='images/baths_cleaned_histogram.png')"
   ]
  },
  {
   "cell_type": "code",
   "execution_count": null,
   "metadata": {},
   "outputs": [],
   "source": [
    "fig = px.histogram(df_cleaned, x='sqft')\n",
    "fig.write_image('images/sqft_histogram.png')\n",
    "Image(filename='images/sqft_histogram.png')"
   ]
  },
  {
   "cell_type": "code",
   "execution_count": null,
   "metadata": {},
   "outputs": [],
   "source": [
    "_, df_cleaned = outliers_iqr(df_cleaned, 'sqft', left=0, right=3)\n",
    "fig = px.histogram(df_cleaned, x='sqft') \n",
    "fig.write_image('images/sqft_cleaned_histogram.png')\n",
    "Image(filename='images/sqft_cleaned_histogram.png')"
   ]
  },
  {
   "cell_type": "code",
   "execution_count": null,
   "metadata": {},
   "outputs": [],
   "source": [
    "# из атрибута год реконструкции уберем строки со значениями меньше года постройки\n",
    "df_cleaned = df_cleaned[~((df_cleaned['remodeled_year'] > 0) & (df_cleaned['remodeled_year'] < df_cleaned['year_built']))]"
   ]
  },
  {
   "cell_type": "code",
   "execution_count": null,
   "metadata": {},
   "outputs": [],
   "source": [
    "def transform_remodeled_year(row: pd.Series):\n",
    "    if row['remodeled_year'] == 0:\n",
    "        return 2022 - row['year_built']\n",
    "    \n",
    "    return 2022 - row['remodeled_year']"
   ]
  },
  {
   "cell_type": "code",
   "execution_count": null,
   "metadata": {},
   "outputs": [],
   "source": [
    "df_cleaned['remodeled_year'] = df_cleaned.apply(transform_remodeled_year, axis=1)"
   ]
  },
  {
   "cell_type": "code",
   "execution_count": null,
   "metadata": {},
   "outputs": [],
   "source": [
    "df_cleaned = df_cleaned[df_cleaned['year_built'] <= 2022]"
   ]
  },
  {
   "cell_type": "code",
   "execution_count": null,
   "metadata": {},
   "outputs": [],
   "source": [
    "fig = px.box(df_cleaned, x='year_built')\n",
    "fig.write_image('images/year_built_boxplot.png')\n",
    "Image(filename='images/year_built_boxplot.png')"
   ]
  },
  {
   "cell_type": "code",
   "execution_count": null,
   "metadata": {},
   "outputs": [],
   "source": [
    "_, df_cleaned = outliers_iqr(df_cleaned, 'year_built', left=1.5, right=0)\n",
    "fig = px.box(df_cleaned, x='year_built')\n",
    "fig.write_image('images/year_built_cleaned_boxplot.png')\n",
    "Image(filename='images/year_built_cleaned_boxplot.png')"
   ]
  },
  {
   "cell_type": "code",
   "execution_count": null,
   "metadata": {},
   "outputs": [],
   "source": [
    "fig = px.box(df_cleaned, x='parking')\n",
    "fig.write_image('images/parking_boxplot.png')\n",
    "Image(filename='images/parking_boxplot.png')"
   ]
  },
  {
   "cell_type": "code",
   "execution_count": null,
   "metadata": {},
   "outputs": [],
   "source": [
    "df_cleaned['parking'].value_counts().head(15)"
   ]
  },
  {
   "cell_type": "code",
   "execution_count": null,
   "metadata": {},
   "outputs": [],
   "source": [
    "# у большей части собственности 10 или менее парковок. Оставим только эти данные, остальные будем считать за выбросы\n",
    "df_cleaned = df_cleaned[df_cleaned['parking'] <= 10]\n",
    "fig = px.box(df_cleaned, x='parking')\n",
    "fig.write_image('images/parking_cleaned_boxplot.png')\n",
    "Image(filename='images/parking_cleaned_boxplot.png')"
   ]
  },
  {
   "cell_type": "code",
   "execution_count": null,
   "metadata": {},
   "outputs": [],
   "source": [
    "fig = px.histogram(df_cleaned, x='lot_size')\n",
    "fig.write_image('images/lot_size_histogram.png')\n",
    "Image(filename='images/lot_size_histogram.png')"
   ]
  },
  {
   "cell_type": "code",
   "execution_count": null,
   "metadata": {},
   "outputs": [],
   "source": [
    "df_cleaned = df_cleaned[df_cleaned['lot_size'] <= 1000000]\n",
    "fig = px.histogram(df_cleaned, x='lot_size')\n",
    "fig.write_image('images/lot_size_cleaned_histogram.png')\n",
    "Image(filename='images/lot_size_cleaned_histogram.png')"
   ]
  },
  {
   "cell_type": "code",
   "execution_count": null,
   "metadata": {},
   "outputs": [],
   "source": [
    "fig = px.histogram(df_cleaned, x='schools_distance')\n",
    "fig.write_image('images/schools_distance_histogram.png')\n",
    "Image(filename='images/schools_distance_histogram.png')"
   ]
  },
  {
   "cell_type": "code",
   "execution_count": null,
   "metadata": {},
   "outputs": [],
   "source": [
    "_, df_cleaned = outliers_iqr(df_cleaned, 'schools_distance', left=0, right=6)\n",
    "fig = px.histogram(df_cleaned, x='schools_distance')\n",
    "fig.write_image('images/schools_distance_cleaned_histogram.png')\n",
    "Image(filename='images/schools_distance_cleaned_histogram.png')"
   ]
  },
  {
   "cell_type": "code",
   "execution_count": null,
   "metadata": {},
   "outputs": [],
   "source": [
    "fig = px.box(df_cleaned, x=\"stories\")\n",
    "fig.write_image('images/stories_boxplot.png')\n",
    "Image(filename='images/stories_boxplot.png')"
   ]
  },
  {
   "cell_type": "code",
   "execution_count": null,
   "metadata": {},
   "outputs": [],
   "source": [
    "_, df_cleaned = outliers_iqr(df_cleaned, 'stories', left=0, right=2)\n",
    "fig = px.box(df_cleaned, x=\"stories\")\n",
    "fig.write_image('images/stories_cleaned_boxplot.png')\n",
    "Image(filename='images/stories_cleaned_boxplot.png')"
   ]
  },
  {
   "attachments": {},
   "cell_type": "markdown",
   "metadata": {},
   "source": [
    "##### Необходимо закодировать данные по категориальным признакам"
   ]
  },
  {
   "cell_type": "code",
   "execution_count": null,
   "metadata": {},
   "outputs": [],
   "source": [
    "df_cleaned.head(5)"
   ]
  },
  {
   "cell_type": "code",
   "execution_count": null,
   "metadata": {},
   "outputs": [],
   "source": [
    "encoder = ce.OneHotEncoder()\n",
    "encoded = encoder.fit_transform(df_cleaned[['status', 'propertyType', 'heating', 'cooling']])\n",
    "df_cleaned = df_cleaned.merge(encoded, left_index=True, right_index=True)"
   ]
  },
  {
   "cell_type": "code",
   "execution_count": null,
   "metadata": {},
   "outputs": [],
   "source": [
    "encoder = ce.BinaryEncoder()\n",
    "encoded = encoder.fit_transform(df_cleaned[['city', 'state']])\n",
    "df_cleaned = df_cleaned.merge(encoded, left_index=True, right_index=True)"
   ]
  },
  {
   "cell_type": "code",
   "execution_count": null,
   "metadata": {},
   "outputs": [],
   "source": [
    "df_cleaned = df_cleaned.drop(['status', 'propertyType', 'heating', 'cooling', 'city', 'state'], axis=1)"
   ]
  },
  {
   "cell_type": "code",
   "execution_count": null,
   "metadata": {},
   "outputs": [],
   "source": [
    "fig, ax = plt.subplots(figsize=(30,15)) \n",
    "sns.heatmap(df_cleaned.corr(), annot=True, ax=ax)"
   ]
  },
  {
   "cell_type": "code",
   "execution_count": null,
   "metadata": {},
   "outputs": [],
   "source": [
    "# уберем признаки с сильной корреляцией\n",
    "df_cleaned = df_cleaned.drop(['year_built', 'cooling_2'], axis=1)"
   ]
  },
  {
   "cell_type": "code",
   "execution_count": null,
   "metadata": {},
   "outputs": [],
   "source": [
    "df_cleaned.to_csv('data/data_cleaned.csv', index=False)"
   ]
  }
 ],
 "metadata": {
  "kernelspec": {
   "display_name": "Python 3",
   "language": "python",
   "name": "python3"
  },
  "language_info": {
   "codemirror_mode": {
    "name": "ipython",
    "version": 3
   },
   "file_extension": ".py",
   "mimetype": "text/x-python",
   "name": "python",
   "nbconvert_exporter": "python",
   "pygments_lexer": "ipython3",
   "version": "3.11.1"
  },
  "orig_nbformat": 4,
  "vscode": {
   "interpreter": {
    "hash": "949777d72b0d2535278d3dc13498b2535136f6dfe0678499012e853ee9abcab1"
   }
  }
 },
 "nbformat": 4,
 "nbformat_minor": 2
}
