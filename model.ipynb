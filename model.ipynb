{
 "cells": [
  {
   "attachments": {},
   "cell_type": "markdown",
   "metadata": {},
   "source": [
    "### Создание модели"
   ]
  },
  {
   "attachments": {},
   "cell_type": "markdown",
   "metadata": {},
   "source": [
    "##### Для начала используем простую модель линейной регресии. В качестве метрики будем использовать MAPE."
   ]
  },
  {
   "cell_type": "code",
   "execution_count": 1,
   "metadata": {},
   "outputs": [
    {
     "name": "stderr",
     "output_type": "stream",
     "text": [
      "/usr/local/lib/python3.11/site-packages/tqdm/auto.py:22: TqdmWarning: IProgress not found. Please update jupyter and ipywidgets. See https://ipywidgets.readthedocs.io/en/stable/user_install.html\n",
      "  from .autonotebook import tqdm as notebook_tqdm\n"
     ]
    }
   ],
   "source": [
    "import optuna\n",
    "import pandas as pd\n",
    "import numpy as np\n",
    "\n",
    "from sklearn.model_selection import train_test_split, cross_validate\n",
    "from sklearn.ensemble import RandomForestRegressor, GradientBoostingRegressor\n",
    "from sklearn import linear_model\n",
    "from sklearn import metrics"
   ]
  },
  {
   "cell_type": "code",
   "execution_count": 2,
   "metadata": {},
   "outputs": [],
   "source": [
    "df_cleaned = pd.read_csv('data/data_cleaned.csv')"
   ]
  },
  {
   "cell_type": "code",
   "execution_count": 3,
   "metadata": {},
   "outputs": [],
   "source": [
    "random_state = 42"
   ]
  },
  {
   "cell_type": "code",
   "execution_count": 4,
   "metadata": {},
   "outputs": [],
   "source": [
    "X = df_cleaned.drop('target', axis=1)\n",
    "y = df_cleaned['target']"
   ]
  },
  {
   "cell_type": "code",
   "execution_count": 5,
   "metadata": {},
   "outputs": [],
   "source": [
    "X_train, X_test, y_train, y_test = train_test_split(X, y, test_size=0.3, random_state=random_state)"
   ]
  },
  {
   "cell_type": "code",
   "execution_count": 6,
   "metadata": {},
   "outputs": [
    {
     "name": "stdout",
     "output_type": "stream",
     "text": [
      "Train MAPE: 13.182493592160593\n",
      "Test MAPE: 21.11920839491114\n"
     ]
    }
   ],
   "source": [
    "lr = linear_model.LinearRegression()\n",
    "lr.fit(X_train, y_train)\n",
    "y_train_pred = lr.predict(X_train)\n",
    "y_test_pred = lr.predict(X_test)\n",
    "\n",
    "print(f'Train MAPE: {metrics.mean_absolute_percentage_error(y_train, y_train_pred)}')\n",
    "print(f'Test MAPE: {metrics.mean_absolute_percentage_error(y_test, y_test_pred)}')"
   ]
  },
  {
   "attachments": {},
   "cell_type": "markdown",
   "metadata": {},
   "source": [
    "Полученные показатели можно считать неплохими с учетом того, что это простая модель линейной регрессии."
   ]
  },
  {
   "attachments": {},
   "cell_type": "markdown",
   "metadata": {},
   "source": [
    "Теперь попробуем использовать более сложные модели и сравним результаты. Для начала используем случайный лес."
   ]
  },
  {
   "cell_type": "code",
   "execution_count": 7,
   "metadata": {},
   "outputs": [
    {
     "name": "stdout",
     "output_type": "stream",
     "text": [
      "Train MAPE: 4.035859878783376\n",
      "Test MAPE: 6.290838189412009\n"
     ]
    }
   ],
   "source": [
    "rfr = RandomForestRegressor(random_state=random_state)\n",
    "rfr.fit(X_train, y_train)\n",
    "y_train_pred = rfr.predict(X_train)\n",
    "y_test_pred = rfr.predict(X_test)\n",
    "\n",
    "print(f'Train MAPE: {metrics.mean_absolute_percentage_error(y_train, y_train_pred)}')\n",
    "print(f'Test MAPE: {metrics.mean_absolute_percentage_error(y_test, y_test_pred)}')"
   ]
  },
  {
   "attachments": {},
   "cell_type": "markdown",
   "metadata": {},
   "source": [
    "Метрика модели случайного леса лучше модели регрессии. Далее попробуем модель градиентного бустинга."
   ]
  },
  {
   "cell_type": "code",
   "execution_count": 8,
   "metadata": {},
   "outputs": [
    {
     "name": "stdout",
     "output_type": "stream",
     "text": [
      "Train MAPE: 9.82586357077138\n",
      "Test MAPE: 15.781459983139891\n"
     ]
    }
   ],
   "source": [
    "gbr = GradientBoostingRegressor(random_state=random_state)\n",
    "gbr.fit(X_train, y_train)\n",
    "y_train_pred = gbr.predict(X_train)\n",
    "y_test_pred = gbr.predict(X_test)\n",
    "\n",
    "print(f'Train MAPE: {metrics.mean_absolute_percentage_error(y_train, y_train_pred)}')\n",
    "print(f'Test MAPE: {metrics.mean_absolute_percentage_error(y_test, y_test_pred)}')"
   ]
  },
  {
   "attachments": {},
   "cell_type": "markdown",
   "metadata": {},
   "source": [
    "Модель градиентного бустинга показывает более плохие результаты. Попробуем проверить модели при помощи кросс валидации."
   ]
  },
  {
   "cell_type": "code",
   "execution_count": 9,
   "metadata": {},
   "outputs": [
    {
     "name": "stdout",
     "output_type": "stream",
     "text": [
      "{'fit_time': array([407.18534565, 330.95878363, 363.71971607, 340.1687572 ,\n",
      "       339.19612837]), 'score_time': array([4.74601078, 3.68507648, 3.78123617, 3.57939839, 3.72935987]), 'test_score': array([ 5.75709314,  1.87889428, 20.8186291 , 20.4056051 ,  5.16808211]), 'train_score': array([5.67928343, 5.03283769, 3.01915574, 3.19833106, 5.33103015])}\n",
      "4.452127615292162\n",
      "10.805660743762292\n"
     ]
    }
   ],
   "source": [
    "cv_metrics = cross_validate(\n",
    "    estimator=RandomForestRegressor(random_state=random_state),\n",
    "    X=X,\n",
    "    y=y,\n",
    "    scoring=metrics.make_scorer(metrics.mean_absolute_percentage_error),\n",
    "    return_train_score=True\n",
    ")\n",
    "print(cv_metrics)\n",
    "print(np.mean(cv_metrics['train_score']))\n",
    "print(np.mean(cv_metrics['test_score']))"
   ]
  },
  {
   "cell_type": "code",
   "execution_count": 10,
   "metadata": {},
   "outputs": [
    {
     "name": "stdout",
     "output_type": "stream",
     "text": [
      "{'fit_time': array([73.66043901, 64.34974408, 66.92585111, 63.47570348, 67.84982395]), 'score_time': array([0.1290071 , 0.13039327, 0.12976503, 0.13894677, 0.14653182]), 'test_score': array([ 8.88991186,  2.39616177, 13.86414744, 17.50464808, 14.77115311]), 'train_score': array([12.98088445, 13.90692724, 11.1839986 ,  9.14558729,  9.52262707])}\n",
      "11.348004930850397\n",
      "11.48520445138799\n"
     ]
    }
   ],
   "source": [
    "cv_metrics = cross_validate(\n",
    "    estimator=GradientBoostingRegressor(random_state=random_state),\n",
    "    X=X,\n",
    "    y=y,\n",
    "    scoring=metrics.make_scorer(metrics.mean_absolute_percentage_error),\n",
    "    return_train_score=True\n",
    ")\n",
    "print(cv_metrics)\n",
    "print(np.mean(cv_metrics['train_score']))\n",
    "print(np.mean(cv_metrics['test_score']))"
   ]
  },
  {
   "attachments": {},
   "cell_type": "markdown",
   "metadata": {},
   "source": [
    "При кросс валидации модель случайного леса так же показала себя лучше, чем модель градиентного бустинга. Попробуем улучшить метрику при помощи подбора гиперпараметров."
   ]
  },
  {
   "cell_type": "code",
   "execution_count": 11,
   "metadata": {},
   "outputs": [],
   "source": [
    "def optuna_rf(trial):\n",
    "    n_estimators = trial.suggest_int('n_estimators', 1, 500, 1)\n",
    "    max_depth = trial.suggest_int('max_depth', 10, 100, 1)\n",
    "    min_samples_split = trial.suggest_int('min_samples_split', 2, 10, 1)\n",
    "    min_samples_leaf = trial.suggest_int('min_samples_leaf', 1, 6, 1)\n",
    "    \n",
    "    mdl = RandomForestRegressor(\n",
    "        random_state=random_state,\n",
    "        n_estimators=n_estimators,\n",
    "        max_depth=max_depth,\n",
    "        min_samples_split=min_samples_split,\n",
    "        min_samples_leaf=min_samples_leaf)\n",
    "    \n",
    "    mdl.fit(X_train, y_train)\n",
    "    \n",
    "    score = metrics.mean_absolute_percentage_error(y_test, mdl.predict(X_test))\n",
    "    \n",
    "    return score"
   ]
  },
  {
   "cell_type": "code",
   "execution_count": 12,
   "metadata": {},
   "outputs": [
    {
     "name": "stderr",
     "output_type": "stream",
     "text": [
      "\u001b[32m[I 2023-04-09 11:16:35,625]\u001b[0m A new study created in memory with name: GradientBoostingRegressor\u001b[0m\n",
      "\u001b[32m[I 2023-04-09 11:30:59,369]\u001b[0m Trial 0 finished with value: 6.966237755248876 and parameters: {'n_estimators': 330, 'max_depth': 91, 'min_samples_split': 4, 'min_samples_leaf': 3}. Best is trial 0 with value: 6.966237755248876.\u001b[0m\n",
      "\u001b[32m[I 2023-04-09 11:44:36,941]\u001b[0m Trial 1 finished with value: 6.928439695889123 and parameters: {'n_estimators': 356, 'max_depth': 21, 'min_samples_split': 9, 'min_samples_leaf': 2}. Best is trial 1 with value: 6.928439695889123.\u001b[0m\n",
      "\u001b[32m[I 2023-04-09 11:48:38,112]\u001b[0m Trial 2 finished with value: 7.120183720383741 and parameters: {'n_estimators': 103, 'max_depth': 73, 'min_samples_split': 7, 'min_samples_leaf': 6}. Best is trial 1 with value: 6.928439695889123.\u001b[0m\n",
      "\u001b[32m[I 2023-04-09 11:49:33,936]\u001b[0m Trial 3 finished with value: 6.7627381484024855 and parameters: {'n_estimators': 22, 'max_depth': 68, 'min_samples_split': 6, 'min_samples_leaf': 4}. Best is trial 3 with value: 6.7627381484024855.\u001b[0m\n",
      "\u001b[32m[I 2023-04-09 12:04:43,313]\u001b[0m Trial 4 finished with value: 7.036003399468211 and parameters: {'n_estimators': 369, 'max_depth': 65, 'min_samples_split': 2, 'min_samples_leaf': 4}. Best is trial 3 with value: 6.7627381484024855.\u001b[0m\n",
      "\u001b[32m[I 2023-04-09 12:20:43,975]\u001b[0m Trial 5 finished with value: 7.027880591339443 and parameters: {'n_estimators': 410, 'max_depth': 40, 'min_samples_split': 8, 'min_samples_leaf': 6}. Best is trial 3 with value: 6.7627381484024855.\u001b[0m\n",
      "\u001b[32m[I 2023-04-09 12:35:34,982]\u001b[0m Trial 6 finished with value: 6.837220260509348 and parameters: {'n_estimators': 341, 'max_depth': 40, 'min_samples_split': 10, 'min_samples_leaf': 1}. Best is trial 3 with value: 6.7627381484024855.\u001b[0m\n",
      "\u001b[32m[I 2023-04-09 12:41:23,041]\u001b[0m Trial 7 finished with value: 6.119860701174853 and parameters: {'n_estimators': 120, 'max_depth': 100, 'min_samples_split': 2, 'min_samples_leaf': 1}. Best is trial 7 with value: 6.119860701174853.\u001b[0m\n",
      "\u001b[32m[I 2023-04-09 12:44:06,136]\u001b[0m Trial 8 finished with value: 6.908970773803635 and parameters: {'n_estimators': 67, 'max_depth': 95, 'min_samples_split': 7, 'min_samples_leaf': 4}. Best is trial 7 with value: 6.119860701174853.\u001b[0m\n",
      "\u001b[32m[I 2023-04-09 13:01:24,462]\u001b[0m Trial 9 finished with value: 6.816737750345402 and parameters: {'n_estimators': 399, 'max_depth': 31, 'min_samples_split': 4, 'min_samples_leaf': 2}. Best is trial 7 with value: 6.119860701174853.\u001b[0m\n",
      "\u001b[32m[I 2023-04-09 13:10:43,206]\u001b[0m Trial 10 finished with value: 6.163059980119571 and parameters: {'n_estimators': 190, 'max_depth': 83, 'min_samples_split': 2, 'min_samples_leaf': 1}. Best is trial 7 with value: 6.119860701174853.\u001b[0m\n",
      "\u001b[32m[I 2023-04-09 13:19:08,098]\u001b[0m Trial 11 finished with value: 6.26068779849718 and parameters: {'n_estimators': 172, 'max_depth': 84, 'min_samples_split': 2, 'min_samples_leaf': 1}. Best is trial 7 with value: 6.119860701174853.\u001b[0m\n",
      "\u001b[32m[I 2023-04-09 13:28:18,539]\u001b[0m Trial 12 finished with value: 6.802903207127858 and parameters: {'n_estimators': 201, 'max_depth': 100, 'min_samples_split': 4, 'min_samples_leaf': 1}. Best is trial 7 with value: 6.119860701174853.\u001b[0m\n",
      "\u001b[32m[I 2023-04-09 13:50:00,549]\u001b[0m Trial 13 finished with value: 6.941386498357552 and parameters: {'n_estimators': 499, 'max_depth': 81, 'min_samples_split': 3, 'min_samples_leaf': 2}. Best is trial 7 with value: 6.119860701174853.\u001b[0m\n",
      "\u001b[32m[I 2023-04-09 13:59:28,922]\u001b[0m Trial 14 finished with value: 7.0324267401702265 and parameters: {'n_estimators': 232, 'max_depth': 51, 'min_samples_split': 5, 'min_samples_leaf': 3}. Best is trial 7 with value: 6.119860701174853.\u001b[0m\n",
      "\u001b[32m[I 2023-04-09 14:06:19,639]\u001b[0m Trial 15 finished with value: 6.288734782898751 and parameters: {'n_estimators': 145, 'max_depth': 81, 'min_samples_split': 2, 'min_samples_leaf': 1}. Best is trial 7 with value: 6.119860701174853.\u001b[0m\n",
      "\u001b[32m[I 2023-04-09 14:18:06,189]\u001b[0m Trial 16 finished with value: 6.719520526352605 and parameters: {'n_estimators': 276, 'max_depth': 57, 'min_samples_split': 3, 'min_samples_leaf': 2}. Best is trial 7 with value: 6.119860701174853.\u001b[0m\n",
      "\u001b[32m[I 2023-04-09 14:22:17,233]\u001b[0m Trial 17 finished with value: 7.292627754011804 and parameters: {'n_estimators': 109, 'max_depth': 100, 'min_samples_split': 3, 'min_samples_leaf': 5}. Best is trial 7 with value: 6.119860701174853.\u001b[0m\n",
      "\u001b[32m[I 2023-04-09 14:32:55,653]\u001b[0m Trial 18 finished with value: 6.96661846677827 and parameters: {'n_estimators': 262, 'max_depth': 88, 'min_samples_split': 5, 'min_samples_leaf': 3}. Best is trial 7 with value: 6.119860701174853.\u001b[0m\n",
      "\u001b[32m[I 2023-04-09 14:34:39,322]\u001b[0m Trial 19 finished with value: 5.98430416904274 and parameters: {'n_estimators': 36, 'max_depth': 73, 'min_samples_split': 2, 'min_samples_leaf': 1}. Best is trial 19 with value: 5.98430416904274.\u001b[0m\n"
     ]
    },
    {
     "name": "stdout",
     "output_type": "stream",
     "text": [
      "CPU times: user 3h 17min 51s, sys: 12.3 s, total: 3h 18min 3s\n",
      "Wall time: 3h 18min 3s\n"
     ]
    }
   ],
   "source": [
    "%%time\n",
    "\n",
    "study = optuna.create_study(study_name='GradientBoostingRegressor', direction='minimize')\n",
    "study.optimize(optuna_rf, n_trials=20)"
   ]
  },
  {
   "attachments": {},
   "cell_type": "markdown",
   "metadata": {},
   "source": [
    "Получилось подобрать гиперпараметры, которые улучшили качество предсказания. Используем их для обучения модели, которую потом будем использовать в продакшене."
   ]
  },
  {
   "cell_type": "code",
   "execution_count": 13,
   "metadata": {},
   "outputs": [
    {
     "data": {
      "text/html": [
       "<style>#sk-container-id-1 {color: black;background-color: white;}#sk-container-id-1 pre{padding: 0;}#sk-container-id-1 div.sk-toggleable {background-color: white;}#sk-container-id-1 label.sk-toggleable__label {cursor: pointer;display: block;width: 100%;margin-bottom: 0;padding: 0.3em;box-sizing: border-box;text-align: center;}#sk-container-id-1 label.sk-toggleable__label-arrow:before {content: \"▸\";float: left;margin-right: 0.25em;color: #696969;}#sk-container-id-1 label.sk-toggleable__label-arrow:hover:before {color: black;}#sk-container-id-1 div.sk-estimator:hover label.sk-toggleable__label-arrow:before {color: black;}#sk-container-id-1 div.sk-toggleable__content {max-height: 0;max-width: 0;overflow: hidden;text-align: left;background-color: #f0f8ff;}#sk-container-id-1 div.sk-toggleable__content pre {margin: 0.2em;color: black;border-radius: 0.25em;background-color: #f0f8ff;}#sk-container-id-1 input.sk-toggleable__control:checked~div.sk-toggleable__content {max-height: 200px;max-width: 100%;overflow: auto;}#sk-container-id-1 input.sk-toggleable__control:checked~label.sk-toggleable__label-arrow:before {content: \"▾\";}#sk-container-id-1 div.sk-estimator input.sk-toggleable__control:checked~label.sk-toggleable__label {background-color: #d4ebff;}#sk-container-id-1 div.sk-label input.sk-toggleable__control:checked~label.sk-toggleable__label {background-color: #d4ebff;}#sk-container-id-1 input.sk-hidden--visually {border: 0;clip: rect(1px 1px 1px 1px);clip: rect(1px, 1px, 1px, 1px);height: 1px;margin: -1px;overflow: hidden;padding: 0;position: absolute;width: 1px;}#sk-container-id-1 div.sk-estimator {font-family: monospace;background-color: #f0f8ff;border: 1px dotted black;border-radius: 0.25em;box-sizing: border-box;margin-bottom: 0.5em;}#sk-container-id-1 div.sk-estimator:hover {background-color: #d4ebff;}#sk-container-id-1 div.sk-parallel-item::after {content: \"\";width: 100%;border-bottom: 1px solid gray;flex-grow: 1;}#sk-container-id-1 div.sk-label:hover label.sk-toggleable__label {background-color: #d4ebff;}#sk-container-id-1 div.sk-serial::before {content: \"\";position: absolute;border-left: 1px solid gray;box-sizing: border-box;top: 0;bottom: 0;left: 50%;z-index: 0;}#sk-container-id-1 div.sk-serial {display: flex;flex-direction: column;align-items: center;background-color: white;padding-right: 0.2em;padding-left: 0.2em;position: relative;}#sk-container-id-1 div.sk-item {position: relative;z-index: 1;}#sk-container-id-1 div.sk-parallel {display: flex;align-items: stretch;justify-content: center;background-color: white;position: relative;}#sk-container-id-1 div.sk-item::before, #sk-container-id-1 div.sk-parallel-item::before {content: \"\";position: absolute;border-left: 1px solid gray;box-sizing: border-box;top: 0;bottom: 0;left: 50%;z-index: -1;}#sk-container-id-1 div.sk-parallel-item {display: flex;flex-direction: column;z-index: 1;position: relative;background-color: white;}#sk-container-id-1 div.sk-parallel-item:first-child::after {align-self: flex-end;width: 50%;}#sk-container-id-1 div.sk-parallel-item:last-child::after {align-self: flex-start;width: 50%;}#sk-container-id-1 div.sk-parallel-item:only-child::after {width: 0;}#sk-container-id-1 div.sk-dashed-wrapped {border: 1px dashed gray;margin: 0 0.4em 0.5em 0.4em;box-sizing: border-box;padding-bottom: 0.4em;background-color: white;}#sk-container-id-1 div.sk-label label {font-family: monospace;font-weight: bold;display: inline-block;line-height: 1.2em;}#sk-container-id-1 div.sk-label-container {text-align: center;}#sk-container-id-1 div.sk-container {/* jupyter's `normalize.less` sets `[hidden] { display: none; }` but bootstrap.min.css set `[hidden] { display: none !important; }` so we also need the `!important` here to be able to override the default hidden behavior on the sphinx rendered scikit-learn.org. See: https://github.com/scikit-learn/scikit-learn/issues/21755 */display: inline-block !important;position: relative;}#sk-container-id-1 div.sk-text-repr-fallback {display: none;}</style><div id=\"sk-container-id-1\" class=\"sk-top-container\"><div class=\"sk-text-repr-fallback\"><pre>RandomForestRegressor(max_depth=73, n_estimators=36, random_state=42)</pre><b>In a Jupyter environment, please rerun this cell to show the HTML representation or trust the notebook. <br />On GitHub, the HTML representation is unable to render, please try loading this page with nbviewer.org.</b></div><div class=\"sk-container\" hidden><div class=\"sk-item\"><div class=\"sk-estimator sk-toggleable\"><input class=\"sk-toggleable__control sk-hidden--visually\" id=\"sk-estimator-id-1\" type=\"checkbox\" checked><label for=\"sk-estimator-id-1\" class=\"sk-toggleable__label sk-toggleable__label-arrow\">RandomForestRegressor</label><div class=\"sk-toggleable__content\"><pre>RandomForestRegressor(max_depth=73, n_estimators=36, random_state=42)</pre></div></div></div></div></div>"
      ],
      "text/plain": [
       "RandomForestRegressor(max_depth=73, n_estimators=36, random_state=42)"
      ]
     },
     "execution_count": 13,
     "metadata": {},
     "output_type": "execute_result"
    }
   ],
   "source": [
    "final_model = RandomForestRegressor(\n",
    "    random_state=random_state,\n",
    "    **study.best_params)\n",
    "final_model.fit(X_train, y_train)"
   ]
  },
  {
   "cell_type": "code",
   "execution_count": 14,
   "metadata": {},
   "outputs": [
    {
     "name": "stdout",
     "output_type": "stream",
     "text": [
      "Train MAPE: 4.170049543499884\n",
      "Test MAPE: 5.98430416904274\n"
     ]
    }
   ],
   "source": [
    "y_train_pred = final_model.predict(X_train)\n",
    "y_test_pred = final_model.predict(X_test)\n",
    "\n",
    "print(f'Train MAPE: {metrics.mean_absolute_percentage_error(y_train, y_train_pred)}')\n",
    "print(f'Test MAPE: {metrics.mean_absolute_percentage_error(y_test, y_test_pred)}')"
   ]
  },
  {
   "cell_type": "code",
   "execution_count": 15,
   "metadata": {},
   "outputs": [],
   "source": [
    "import pickle\n",
    "\n",
    "with open('model/model.pkl', 'wb') as output:\n",
    "    pickle.dump(final_model, output)"
   ]
  }
 ],
 "metadata": {
  "kernelspec": {
   "display_name": "Python 3",
   "language": "python",
   "name": "python3"
  },
  "language_info": {
   "codemirror_mode": {
    "name": "ipython",
    "version": 3
   },
   "file_extension": ".py",
   "mimetype": "text/x-python",
   "name": "python",
   "nbconvert_exporter": "python",
   "pygments_lexer": "ipython3",
   "version": "3.11.1"
  },
  "orig_nbformat": 4,
  "vscode": {
   "interpreter": {
    "hash": "949777d72b0d2535278d3dc13498b2535136f6dfe0678499012e853ee9abcab1"
   }
  }
 },
 "nbformat": 4,
 "nbformat_minor": 2
}
